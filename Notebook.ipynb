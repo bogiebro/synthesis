{
 "cells": [
  {
   "cell_type": "markdown",
   "id": "61901c16",
   "metadata": {},
   "source": [
    "## Imports"
   ]
  },
  {
   "cell_type": "code",
   "execution_count": 38,
   "id": "61832cd5",
   "metadata": {
    "ExecuteTime": {
     "end_time": "2022-06-22T02:38:42.552214Z",
     "start_time": "2022-06-22T02:38:42.532414Z"
    }
   },
   "outputs": [],
   "source": [
    "%autoreload\n",
    "from collections import defaultdict\n",
    "import itertools\n",
    "import torch\n",
    "import pyro\n",
    "import pyro.distributions as dist\n",
    "from pyro.infer import Predictive, SVI, Trace_ELBO, TraceGraph_ELBO, config_enumerate\n",
    "from pyro import poutine\n",
    "from pyro.optim import Adam\n",
    "import gpytorch as gp\n",
    "from gpytorch.kernels import RBFKernel, PeriodicKernel, ScaleKernel, ProductKernel, LinearKernel, AdditiveKernel\n",
    "import visdom\n",
    "import pdb\n",
    "from pmextract import extract\n",
    "import matplotlib.pyplot as plt\n",
    "import autostat as a"
   ]
  },
  {
   "cell_type": "code",
   "execution_count": 2,
   "id": "6da09acc",
   "metadata": {
    "ExecuteTime": {
     "end_time": "2022-06-21T23:04:01.825677Z",
     "start_time": "2022-06-21T23:04:01.814233Z"
    }
   },
   "outputs": [],
   "source": [
    "leaf_name = \"param \" + str(a.hash_prog(a.Prog()))"
   ]
  },
  {
   "cell_type": "code",
   "execution_count": 3,
   "id": "d4920ecc",
   "metadata": {
    "ExecuteTime": {
     "end_time": "2022-06-21T23:04:01.839239Z",
     "start_time": "2022-06-21T23:04:01.826949Z"
    }
   },
   "outputs": [],
   "source": [
    "LOGRATE = 20"
   ]
  },
  {
   "cell_type": "code",
   "execution_count": 4,
   "id": "d436fca0",
   "metadata": {
    "ExecuteTime": {
     "end_time": "2022-06-21T23:04:01.959653Z",
     "start_time": "2022-06-21T23:04:01.841845Z"
    }
   },
   "outputs": [
    {
     "name": "stderr",
     "output_type": "stream",
     "text": [
      "Setting up a new session...\n"
     ]
    }
   ],
   "source": [
    "vis = visdom.Visdom(env='nb')"
   ]
  },
  {
   "cell_type": "markdown",
   "id": "d27af56f",
   "metadata": {},
   "source": [
    "## Fake Data"
   ]
  },
  {
   "cell_type": "code",
   "execution_count": 5,
   "id": "da3c7a69",
   "metadata": {
    "ExecuteTime": {
     "end_time": "2022-06-21T23:04:51.126462Z",
     "start_time": "2022-06-21T23:04:51.113102Z"
    }
   },
   "outputs": [],
   "source": [
    "p = a.Prog()"
   ]
  },
  {
   "cell_type": "code",
   "execution_count": 6,
   "id": "6d8e0c05",
   "metadata": {
    "ExecuteTime": {
     "end_time": "2022-06-21T23:04:51.139622Z",
     "start_time": "2022-06-21T23:04:51.128071Z"
    }
   },
   "outputs": [],
   "source": [
    "p.adds.add(frozenset([PeriodicKernel, RBFKernel]))\n",
    "p.adds.add(frozenset([LinearKernel]))"
   ]
  },
  {
   "cell_type": "code",
   "execution_count": 7,
   "id": "b725ed4b",
   "metadata": {
    "ExecuteTime": {
     "end_time": "2022-06-21T23:04:51.155725Z",
     "start_time": "2022-06-21T23:04:51.141759Z"
    }
   },
   "outputs": [],
   "source": [
    "k = a.to_kernel(p)"
   ]
  },
  {
   "cell_type": "code",
   "execution_count": 8,
   "id": "fc4163b6",
   "metadata": {
    "ExecuteTime": {
     "end_time": "2022-06-21T23:04:51.168369Z",
     "start_time": "2022-06-21T23:04:51.157907Z"
    }
   },
   "outputs": [],
   "source": [
    "x = (torch.arange(100) / 40)"
   ]
  },
  {
   "cell_type": "code",
   "execution_count": 9,
   "id": "2eff7d04",
   "metadata": {
    "ExecuteTime": {
     "end_time": "2022-06-21T23:04:51.184390Z",
     "start_time": "2022-06-21T23:04:51.170238Z"
    }
   },
   "outputs": [],
   "source": [
    "x1 = x[:50, None]"
   ]
  },
  {
   "cell_type": "code",
   "execution_count": 10,
   "id": "6925fb7b",
   "metadata": {
    "ExecuteTime": {
     "end_time": "2022-06-21T23:04:51.197023Z",
     "start_time": "2022-06-21T23:04:51.186091Z"
    }
   },
   "outputs": [],
   "source": [
    "x2 = x[50:, None]"
   ]
  },
  {
   "cell_type": "code",
   "execution_count": 11,
   "id": "b01eba29",
   "metadata": {
    "ExecuteTime": {
     "end_time": "2022-06-21T23:04:51.209193Z",
     "start_time": "2022-06-21T23:04:51.198341Z"
    }
   },
   "outputs": [],
   "source": [
    "MEAN = gp.means.ZeroMean()"
   ]
  },
  {
   "cell_type": "code",
   "execution_count": 12,
   "id": "0f9a3cff",
   "metadata": {
    "ExecuteTime": {
     "end_time": "2022-06-21T23:04:51.228562Z",
     "start_time": "2022-06-21T23:04:51.210545Z"
    }
   },
   "outputs": [
    {
     "name": "stderr",
     "output_type": "stream",
     "text": [
      "/home/sam/.local/lib/python3.10/site-packages/gpytorch/utils/cholesky.py:38: NumericalWarning: A not p.d., added jitter of 1.0e-06 to the diagonal\n",
      "  warnings.warn(\n",
      "/home/sam/.local/lib/python3.10/site-packages/gpytorch/lazy/lazy_tensor.py:1741: UserWarning: torch.triangular_solve is deprecated in favor of torch.linalg.solve_triangularand will be removed in a future PyTorch release.\n",
      "torch.linalg.solve_triangular has its arguments reversed and does not return a copy of one of the inputs.\n",
      "X = torch.triangular_solve(B, A).solution\n",
      "should be replaced with\n",
      "X = torch.linalg.solve_triangular(A, B). (Triggered internally at  /build/python-pytorch/src/pytorch-1.11.0/aten/src/ATen/native/BatchLinearAlgebra.cpp:1666.)\n",
      "  Linv = torch.triangular_solve(Eye, L, upper=False).solution\n"
     ]
    }
   ],
   "source": [
    "fancy_y = a.gp_model(a.Prog(), MEAN, k, x1, None).detach()"
   ]
  },
  {
   "cell_type": "code",
   "execution_count": 13,
   "id": "63a9917b",
   "metadata": {
    "ExecuteTime": {
     "end_time": "2022-06-21T23:04:51.247195Z",
     "start_time": "2022-06-21T23:04:51.230035Z"
    }
   },
   "outputs": [],
   "source": [
    "with torch.no_grad():\n",
    "    fancy_y2 = k(x2, x1) @ k(x1).add_diag(torch.tensor(0.001)).inv_matmul(fancy_y)"
   ]
  },
  {
   "cell_type": "code",
   "execution_count": 14,
   "id": "9d389365",
   "metadata": {
    "ExecuteTime": {
     "end_time": "2022-06-21T23:04:51.346281Z",
     "start_time": "2022-06-21T23:04:51.249674Z"
    }
   },
   "outputs": [
    {
     "data": {
      "text/plain": [
       "[<matplotlib.lines.Line2D at 0x7fb03702e020>]"
      ]
     },
     "execution_count": 14,
     "metadata": {},
     "output_type": "execute_result"
    },
    {
     "data": {
      "image/png": "[encoded data removed]",
      "text/plain": [
       "<Figure size 432x288 with 1 Axes>"
      ]
     },
     "metadata": {
      "needs_background": "light"
     },
     "output_type": "display_data"
    }
   ],
   "source": [
    "plt.plot(x, torch.cat((fancy_y, fancy_y2)))"
   ]
  },
  {
   "cell_type": "markdown",
   "id": "48d364ab",
   "metadata": {},
   "source": [
    "## Greedy Training"
   ]
  },
  {
   "cell_type": "code",
   "execution_count": 31,
   "id": "689f55ae",
   "metadata": {
    "ExecuteTime": {
     "end_time": "2022-06-22T02:34:30.312461Z",
     "start_time": "2022-06-22T02:34:30.293819Z"
    }
   },
   "outputs": [],
   "source": [
    "KERNS = {}"
   ]
  },
  {
   "cell_type": "code",
   "execution_count": 53,
   "id": "bd7fbe89",
   "metadata": {
    "ExecuteTime": {
     "end_time": "2022-06-22T02:51:27.612590Z",
     "start_time": "2022-06-22T02:51:27.600602Z"
    }
   },
   "outputs": [],
   "source": [
    "def full_model():\n",
    "    prog, logp, kern, newkern = a.path_guide(KERNS)\n",
    "    a.gp_model(prog, MEAN, kern, x1, fancy_y)\n",
    "    return prog"
   ]
  },
  {
   "cell_type": "code",
   "execution_count": 75,
   "id": "192b3b12",
   "metadata": {
    "ExecuteTime": {
     "end_time": "2022-06-22T03:33:42.269295Z",
     "start_time": "2022-06-22T03:33:41.866486Z"
    }
   },
   "outputs": [
    {
     "data": {
      "text/plain": [
       "\"Prog(True [] [['MaternKernel', 'PeriodicKernel']])\""
      ]
     },
     "execution_count": 75,
     "metadata": {},
     "output_type": "execute_result"
    }
   ],
   "source": [
    "str(a.greedy_search(full_model, 5))"
   ]
  },
  {
   "cell_type": "code",
   "execution_count": 50,
   "id": "0b012c5e",
   "metadata": {
    "ExecuteTime": {
     "end_time": "2022-06-22T02:50:55.430816Z",
     "start_time": "2022-06-22T02:50:55.418828Z"
    }
   },
   "outputs": [],
   "source": [
    "from queue import Queue"
   ]
  },
  {
   "cell_type": "markdown",
   "id": "67beed0e",
   "metadata": {},
   "source": [
    "Ah, so it gets interrupted "
   ]
  },
  {
   "cell_type": "code",
   "execution_count": 80,
   "id": "2308205a",
   "metadata": {
    "ExecuteTime": {
     "end_time": "2022-06-22T03:41:07.531498Z",
     "start_time": "2022-06-22T03:41:07.194824Z"
    }
   },
   "outputs": [
    {
     "name": "stdout",
     "output_type": "stream",
     "text": [
      "Running\n",
      "Now seen 1\n",
      "Now seen 2\n",
      "Now seen 3\n",
      "Now seen 4\n",
      "Now seen 5\n",
      "Running\n",
      "Now seen 1\n",
      "Running\n",
      "Now seen 1\n",
      "Running\n",
      "Now seen 1\n",
      "Running\n",
      "Now seen 1\n",
      "Now seen 2\n",
      "Now seen 3\n",
      "Now seen 4\n",
      "Running\n",
      "Now seen 1\n",
      "Running\n",
      "Now seen 1\n",
      "Running\n",
      "Now seen 1\n",
      "Running\n",
      "Now seen 1\n",
      "Now seen 2\n",
      "Now seen 3\n",
      "Now seen 4\n",
      "Running\n",
      "Now seen 1\n",
      "Running\n",
      "Now seen 1\n",
      "Running\n",
      "Now seen 1\n",
      "Running\n",
      "Now seen 1\n",
      "Now seen 2\n",
      "Now seen 3\n",
      "Now seen 4\n",
      "Running\n",
      "Now seen 1\n",
      "Running\n",
      "Now seen 1\n",
      "Running\n",
      "Now seen 1\n",
      "Running\n",
      "Now seen 1\n",
      "Now seen 2\n",
      "Now seen 3\n",
      "Now seen 4\n",
      "Running\n",
      "Now seen 1\n",
      "Running\n",
      "Now seen 1\n",
      "Running\n",
      "Now seen 1\n",
      "Running\n",
      "Now seen 1\n",
      "Running\n",
      "Now seen 1\n",
      "Now seen 2\n",
      "Now seen 3\n",
      "Running\n",
      "Now seen 1\n",
      "Running\n",
      "Now seen 1\n",
      "Running\n",
      "Now seen 1\n",
      "Running\n",
      "Now seen 1\n",
      "Running\n",
      "Now seen 1\n",
      "Now seen 2\n",
      "Now seen 3\n",
      "Running\n",
      "Now seen 1\n",
      "Running\n",
      "Now seen 1\n",
      "Running\n",
      "Now seen 1\n",
      "Running\n",
      "Now seen 1\n",
      "Running\n",
      "Now seen 1\n",
      "Now seen 2\n",
      "Now seen 3\n",
      "Running\n",
      "Now seen 1\n",
      "Running\n",
      "Now seen 1\n",
      "Running\n",
      "Now seen 1\n",
      "Running\n",
      "Now seen 1\n",
      "Running\n",
      "Now seen 1\n",
      "Now seen 2\n",
      "Now seen 3\n",
      "Running\n",
      "Now seen 1\n",
      "Running\n",
      "Now seen 1\n",
      "Running\n",
      "Now seen 1\n",
      "Running\n",
      "Now seen 1\n",
      "Running\n",
      "Now seen 1\n",
      "Now seen 2\n",
      "Now seen 3\n",
      "Running\n",
      "Now seen 1\n",
      "Running\n",
      "Now seen 1\n",
      "Running\n",
      "Now seen 1\n",
      "Running\n",
      "Now seen 1\n",
      "Running\n",
      "Now seen 1\n",
      "Now seen 2\n",
      "Now seen 3\n",
      "Running\n",
      "Now seen 1\n",
      "Running\n",
      "Now seen 1\n",
      "Running\n",
      "Now seen 1\n",
      "Running\n",
      "Now seen 1\n",
      "Running\n",
      "Now seen 1\n",
      "Now seen 2\n",
      "Now seen 3\n",
      "Running\n",
      "Now seen 1\n",
      "Running\n",
      "Now seen 1\n",
      "Running\n",
      "Now seen 1\n",
      "Running\n",
      "Now seen 1\n",
      "Running\n",
      "Now seen 1\n",
      "Now seen 2\n",
      "Now seen 3\n",
      "Running\n",
      "Now seen 1\n",
      "Running\n",
      "Now seen 1\n",
      "Running\n",
      "Now seen 1\n",
      "Running\n",
      "Now seen 1\n",
      "Running\n",
      "Now seen 1\n",
      "Now seen 2\n",
      "Now seen 3\n",
      "Running\n",
      "Now seen 1\n",
      "Running\n",
      "Now seen 1\n",
      "Running\n",
      "Now seen 1\n",
      "Running\n",
      "Now seen 1\n",
      "Running\n",
      "Now seen 1\n",
      "Now seen 2\n",
      "Now seen 3\n",
      "Running\n",
      "Now seen 1\n",
      "Running\n",
      "Now seen 1\n",
      "Running\n",
      "Now seen 1\n",
      "Running\n",
      "Now seen 1\n",
      "Running\n",
      "Now seen 1\n",
      "Now seen 2\n",
      "Now seen 3\n",
      "Running\n",
      "Now seen 1\n",
      "Running\n",
      "Now seen 1\n",
      "Running\n",
      "Now seen 1\n",
      "Running\n",
      "Now seen 1\n",
      "Running\n",
      "Now seen 1\n",
      "Now seen 2\n",
      "Now seen 3\n",
      "Running\n",
      "Now seen 1\n",
      "Running\n",
      "Now seen 1\n",
      "Running\n",
      "Now seen 1\n",
      "Running\n",
      "Now seen 1\n",
      "Running\n",
      "Now seen 1\n",
      "Now seen 2\n",
      "Running\n",
      "Now seen 1\n",
      "Running\n",
      "Now seen 1\n",
      "Running\n",
      "Now seen 1\n",
      "Running\n",
      "Now seen 1\n",
      "Running\n",
      "Now seen 1\n",
      "Now seen 2\n",
      "Running\n",
      "Now seen 1\n",
      "Running\n",
      "Now seen 1\n",
      "Running\n",
      "Now seen 1\n",
      "Running\n",
      "Now seen 1\n",
      "Running\n",
      "Now seen 1\n",
      "Now seen 2\n",
      "Running\n",
      "Now seen 1\n",
      "Running\n",
      "Now seen 1\n",
      "Running\n",
      "Now seen 1\n",
      "Running\n",
      "Now seen 1\n",
      "Running\n",
      "Now seen 1\n",
      "Now seen 2\n",
      "Running\n",
      "Now seen 1\n",
      "Running\n",
      "Now seen 1\n",
      "Running\n",
      "Now seen 1\n",
      "Running\n",
      "Now seen 1\n",
      "Running\n",
      "Now seen 1\n",
      "Now seen 2\n",
      "Running\n",
      "Now seen 1\n",
      "Running\n",
      "Now seen 1\n",
      "Running\n",
      "Now seen 1\n",
      "Running\n",
      "Now seen 1\n",
      "Running\n",
      "Now seen 1\n",
      "Now seen 2\n",
      "Running\n",
      "Now seen 1\n",
      "Running\n",
      "Now seen 1\n",
      "Running\n",
      "Now seen 1\n",
      "Running\n",
      "Now seen 1\n",
      "Running\n",
      "Now seen 1\n",
      "Now seen 2\n",
      "Running\n",
      "Now seen 1\n",
      "Running\n",
      "Now seen 1\n",
      "Running\n",
      "Now seen 1\n",
      "Running\n",
      "Now seen 1\n",
      "Running\n",
      "Now seen 1\n",
      "Now seen 2\n",
      "Running\n",
      "Now seen 1\n",
      "Running\n",
      "Now seen 1\n",
      "Running\n",
      "Now seen 1\n",
      "Running\n",
      "Now seen 1\n",
      "Running\n",
      "Now seen 1\n",
      "Now seen 2\n",
      "Running\n",
      "Now seen 1\n",
      "Running\n",
      "Now seen 1\n",
      "Running\n",
      "Now seen 1\n",
      "Running\n",
      "Now seen 1\n",
      "Running\n",
      "Now seen 1\n",
      "Now seen 2\n",
      "Running\n",
      "Now seen 1\n",
      "Running\n",
      "Now seen 1\n",
      "Running\n",
      "Now seen 1\n",
      "Running\n",
      "Now seen 1\n",
      "Running\n",
      "Now seen 1\n",
      "Now seen 2\n",
      "Running\n",
      "Now seen 1\n",
      "Running\n",
      "Now seen 1\n",
      "Running\n",
      "Now seen 1\n",
      "Running\n",
      "Now seen 1\n",
      "Running\n",
      "Now seen 1\n",
      "Now seen 2\n",
      "Running\n",
      "Now seen 1\n",
      "Running\n",
      "Now seen 1\n",
      "Running\n",
      "Now seen 1\n",
      "Running\n",
      "Now seen 1\n",
      "Running\n",
      "Now seen 1\n",
      "Now seen 2\n",
      "Running\n",
      "Now seen 1\n",
      "Running\n",
      "Now seen 1\n",
      "Running\n",
      "Now seen 1\n",
      "Running\n",
      "Now seen 1\n",
      "Running\n",
      "Now seen 1\n",
      "Now seen 2\n",
      "Running\n",
      "Now seen 1\n",
      "Running\n",
      "Now seen 1\n",
      "Running\n",
      "Now seen 1\n",
      "Running\n",
      "Now seen 1\n",
      "Running\n",
      "Now seen 1\n",
      "Now seen 2\n",
      "Running\n",
      "Now seen 1\n",
      "Running\n",
      "Now seen 1\n",
      "Running\n",
      "Now seen 1\n",
      "Running\n",
      "Now seen 1\n",
      "Running\n",
      "Now seen 1\n",
      "Now seen 2\n",
      "Running\n",
      "Now seen 1\n",
      "Running\n",
      "Now seen 1\n",
      "Running\n",
      "Now seen 1\n",
      "Running\n",
      "Now seen 1\n",
      "Running\n",
      "Now seen 1\n",
      "Now seen 2\n",
      "Running\n",
      "Now seen 1\n",
      "Running\n",
      "Now seen 1\n",
      "Running\n",
      "Now seen 1\n",
      "Running\n",
      "Now seen 1\n",
      "Running\n",
      "Now seen 1\n",
      "Now seen 2\n",
      "Running\n",
      "Now seen 1\n",
      "Running\n",
      "Now seen 1\n",
      "Running\n",
      "Now seen 1\n",
      "Running\n",
      "Now seen 1\n",
      "Running\n",
      "Now seen 1\n",
      "Now seen 2\n",
      "Running\n",
      "Now seen 1\n",
      "Running\n",
      "Now seen 1\n",
      "Running\n",
      "Now seen 1\n",
      "Running\n",
      "Now seen 1\n",
      "Running\n",
      "Now seen 1\n",
      "Now seen 2\n",
      "Running\n",
      "Now seen 1\n",
      "Running\n",
      "Now seen 1\n",
      "Running\n",
      "Now seen 1\n",
      "Running\n",
      "Now seen 1\n",
      "Running\n",
      "Now seen 1\n",
      "Now seen 2\n",
      "Running\n",
      "Now seen 1\n",
      "Running\n",
      "Now seen 1\n",
      "Running\n",
      "Now seen 1\n",
      "Running\n",
      "Now seen 1\n",
      "Running\n",
      "Now seen 1\n",
      "Now seen 2\n",
      "Running\n",
      "Now seen 1\n",
      "Running\n",
      "Now seen 1\n",
      "Running\n",
      "Now seen 1\n",
      "Running\n",
      "Now seen 1\n",
      "Running\n",
      "Now seen 1\n",
      "Now seen 2\n",
      "Running\n",
      "Now seen 1\n",
      "Running\n",
      "Now seen 1\n",
      "Running\n",
      "Now seen 1\n",
      "Running\n",
      "Now seen 1\n",
      "Running\n",
      "Now seen 1\n",
      "Now seen 2\n",
      "Running\n",
      "Now seen 1\n",
      "Running\n",
      "Now seen 1\n",
      "Running\n",
      "Now seen 1\n",
      "Running\n",
      "Now seen 1\n",
      "Running\n",
      "Now seen 1\n",
      "Running\n",
      "Now seen 1\n",
      "Running\n",
      "Now seen 1\n",
      "Running\n",
      "Now seen 1\n",
      "Running\n",
      "Now seen 1\n",
      "Running\n",
      "Now seen 1\n",
      "Running\n",
      "Now seen 1\n",
      "Running\n",
      "Now seen 1\n",
      "Running\n",
      "Now seen 1\n",
      "Running\n",
      "Now seen 1\n",
      "Running\n",
      "Now seen 1\n",
      "Running\n",
      "Now seen 1\n",
      "Running\n",
      "Now seen 1\n",
      "Running\n",
      "Now seen 1\n",
      "Running\n",
      "Now seen 1\n",
      "Running\n",
      "Now seen 1\n",
      "Running\n",
      "Now seen 1\n",
      "Running\n",
      "Now seen 1\n",
      "Running\n",
      "Now seen 1\n",
      "Running\n",
      "Now seen 1\n",
      "Running\n",
      "Now seen 1\n",
      "Running\n",
      "Now seen 1\n",
      "Running\n",
      "Now seen 1\n",
      "Running\n",
      "Now seen 1\n",
      "Running\n",
      "Now seen 1\n",
      "Running\n",
      "Now seen 1\n",
      "Running\n",
      "Now seen 1\n",
      "Running\n",
      "Now seen 1\n",
      "Running\n",
      "Now seen 1\n",
      "Running\n",
      "Now seen 1\n",
      "Running\n",
      "Now seen 1\n",
      "Running\n",
      "Now seen 1\n",
      "Running\n",
      "Now seen 1\n",
      "Running\n",
      "Now seen 1\n",
      "Running\n",
      "Now seen 1\n",
      "Running\n",
      "Now seen 1\n",
      "Running\n",
      "Now seen 1\n",
      "Running\n",
      "Now seen 1\n",
      "Running\n",
      "Now seen 1\n",
      "Running\n",
      "Now seen 1\n",
      "Running\n",
      "Now seen 1\n",
      "Running\n",
      "Now seen 1\n",
      "Running\n",
      "Now seen 1\n",
      "Running\n",
      "Now seen 1\n",
      "Running\n",
      "Now seen 1\n",
      "Running\n",
      "Now seen 1\n",
      "Running\n",
      "Now seen 1\n",
      "Running\n",
      "Now seen 1\n",
      "Running\n",
      "Now seen 1\n",
      "Running\n",
      "Now seen 1\n",
      "Running\n",
      "Now seen 1\n",
      "Running\n",
      "Now seen 1\n",
      "Running\n",
      "Now seen 1\n",
      "Running\n",
      "Now seen 1\n",
      "Running\n",
      "Now seen 1\n",
      "Running\n",
      "Now seen 1\n",
      "Running\n",
      "Now seen 1\n",
      "Running\n",
      "Now seen 1\n",
      "Running\n",
      "Now seen 1\n",
      "Running\n",
      "Now seen 1\n",
      "Running\n",
      "Now seen 1\n",
      "Running\n",
      "Now seen 1\n",
      "Running\n",
      "Now seen 1\n",
      "Running\n",
      "Now seen 1\n",
      "Running\n",
      "Now seen 1\n",
      "Running\n",
      "Now seen 1\n",
      "Running\n",
      "Now seen 1\n",
      "Running\n",
      "Now seen 1\n",
      "Running\n",
      "Now seen 1\n",
      "Running\n",
      "Now seen 1\n",
      "Running\n",
      "Now seen 1\n",
      "Running\n",
      "Now seen 1\n",
      "Running\n",
      "Now seen 1\n",
      "Running\n",
      "Now seen 1\n",
      "Running\n",
      "Now seen 1\n",
      "Running\n",
      "Now seen 1\n",
      "Running\n",
      "Now seen 1\n",
      "Running\n",
      "Now seen 1\n",
      "Running\n",
      "Now seen 1\n",
      "Running\n",
      "Now seen 1\n",
      "Running\n",
      "Now seen 1\n",
      "Running\n",
      "Now seen 1\n",
      "Running\n",
      "Now seen 1\n",
      "Running\n",
      "Now seen 1\n",
      "Running\n",
      "Now seen 1\n",
      "Running\n",
      "Now seen 1\n",
      "Running\n",
      "Now seen 1\n",
      "Running\n",
      "Now seen 1\n",
      "Running\n",
      "Now seen 1\n",
      "Running\n",
      "Now seen 1\n",
      "Running\n",
      "Now seen 1\n",
      "Running\n",
      "Now seen 1\n",
      "Running\n",
      "Now seen 1\n",
      "Running\n",
      "Now seen 1\n",
      "Running\n",
      "Now seen 1\n",
      "Running\n",
      "Now seen 1\n",
      "Running\n",
      "Now seen 1\n",
      "Running\n",
      "Now seen 1\n",
      "Running\n",
      "Now seen 1\n",
      "Running\n",
      "Now seen 1\n",
      "Running\n",
      "Now seen 1\n",
      "Running\n",
      "Now seen 1\n",
      "Running\n",
      "Now seen 1\n",
      "Running\n",
      "Now seen 1\n",
      "Running\n",
      "Now seen 1\n",
      "Running\n",
      "Now seen 1\n",
      "Running\n",
      "Now seen 1\n",
      "Running\n",
      "Now seen 1\n",
      "Running\n",
      "Now seen 1\n",
      "Running\n",
      "Now seen 1\n",
      "Running\n",
      "Now seen 1\n",
      "Running\n",
      "Now seen 1\n",
      "Running\n",
      "Now seen 1\n",
      "Running\n",
      "Now seen 1\n",
      "Running\n",
      "Now seen 1\n"
     ]
    }
   ],
   "source": [
    "q = Queue()\n",
    "samples = []\n",
    "q.put(poutine.Trace())\n",
    "enum_model = poutine.queue(full_model, queue=q)\n",
    "while not q.empty():\n",
    "    print(\"Running\")\n",
    "    try:\n",
    "        with a.GreedyAuxMessenger(1):\n",
    "            res = enum_model()\n",
    "            samples.append(res)\n",
    "    except a.RejectException:\n",
    "        print(\"Rejected\")\n",
    "        pass"
   ]
  },
  {
   "cell_type": "markdown",
   "id": "86aa02ce",
   "metadata": {},
   "source": [
    "Remember: you can't be Done unless the builder is empty. \n",
    "So: whenever the builder is empty and adds is a given length, be done. Problem: the messenger doesn't have access to the prog.\n",
    "This would be solved if we used programs as keys rather than hashes. "
   ]
  },
  {
   "cell_type": "code",
   "execution_count": 77,
   "id": "fcdb8b77",
   "metadata": {
    "ExecuteTime": {
     "end_time": "2022-06-22T03:35:21.099912Z",
     "start_time": "2022-06-22T03:35:21.086291Z"
    }
   },
   "outputs": [
    {
     "name": "stdout",
     "output_type": "stream",
     "text": [
      "Prog(True [] [['PeriodicKernel']])\n",
      "Prog(True [] [['RBFKernel']])\n",
      "Prog(True [] [['LinearKernel']])\n",
      "Prog(True [] [['MaternKernel']])\n",
      "Prog(True [] [['PeriodicKernel', 'RBFKernel']])\n",
      "Prog(True [] [['PeriodicKernel', 'LinearKernel']])\n",
      "Prog(True [] [['MaternKernel', 'PeriodicKernel']])\n",
      "Prog(True [] [['PeriodicKernel', 'RBFKernel']])\n",
      "Prog(True [] [['LinearKernel', 'RBFKernel']])\n",
      "Prog(True [] [['MaternKernel', 'RBFKernel']])\n",
      "Prog(True [] [['LinearKernel', 'PeriodicKernel']])\n",
      "Prog(True [] [['LinearKernel', 'RBFKernel']])\n",
      "Prog(True [] [['MaternKernel', 'LinearKernel']])\n",
      "Prog(True [] [['MaternKernel', 'PeriodicKernel']])\n",
      "Prog(True [] [['MaternKernel', 'RBFKernel']])\n",
      "Prog(True [] [['MaternKernel', 'LinearKernel']])\n",
      "Prog(True [] [['PeriodicKernel', 'RBFKernel', 'LinearKernel']])\n",
      "Prog(True [] [['MaternKernel', 'PeriodicKernel', 'RBFKernel']])\n",
      "Prog(True [] [['PeriodicKernel', 'RBFKernel', 'LinearKernel']])\n",
      "Prog(True [] [['MaternKernel', 'PeriodicKernel', 'LinearKernel']])\n",
      "Prog(True [] [['MaternKernel', 'PeriodicKernel', 'RBFKernel']])\n",
      "Prog(True [] [['MaternKernel', 'PeriodicKernel', 'LinearKernel']])\n",
      "Prog(True [] [['PeriodicKernel', 'RBFKernel', 'LinearKernel']])\n",
      "Prog(True [] [['MaternKernel', 'PeriodicKernel', 'RBFKernel']])\n",
      "Prog(True [] [['LinearKernel', 'RBFKernel', 'PeriodicKernel']])\n",
      "Prog(True [] [['MaternKernel', 'LinearKernel', 'RBFKernel']])\n",
      "Prog(True [] [['MaternKernel', 'PeriodicKernel', 'RBFKernel']])\n",
      "Prog(True [] [['MaternKernel', 'LinearKernel', 'RBFKernel']])\n",
      "Prog(True [] [['LinearKernel', 'RBFKernel', 'PeriodicKernel']])\n",
      "Prog(True [] [['MaternKernel', 'LinearKernel', 'PeriodicKernel']])\n",
      "Prog(True [] [['LinearKernel', 'RBFKernel', 'PeriodicKernel']])\n",
      "Prog(True [] [['MaternKernel', 'LinearKernel', 'RBFKernel']])\n",
      "Prog(True [] [['MaternKernel', 'LinearKernel', 'PeriodicKernel']])\n",
      "Prog(True [] [['MaternKernel', 'LinearKernel', 'RBFKernel']])\n",
      "Prog(True [] [['MaternKernel', 'PeriodicKernel', 'RBFKernel']])\n",
      "Prog(True [] [['MaternKernel', 'PeriodicKernel', 'LinearKernel']])\n",
      "Prog(True [] [['MaternKernel', 'PeriodicKernel', 'RBFKernel']])\n",
      "Prog(True [] [['MaternKernel', 'LinearKernel', 'RBFKernel']])\n",
      "Prog(True [] [['MaternKernel', 'LinearKernel', 'PeriodicKernel']])\n",
      "Prog(True [] [['MaternKernel', 'LinearKernel', 'RBFKernel']])\n",
      "Prog(True [] [['MaternKernel', 'PeriodicKernel', 'RBFKernel', 'LinearKernel']])\n",
      "Prog(True [] [['MaternKernel', 'PeriodicKernel', 'RBFKernel', 'LinearKernel']])\n",
      "Prog(True [] [['MaternKernel', 'PeriodicKernel', 'RBFKernel', 'LinearKernel']])\n",
      "Prog(True [] [['MaternKernel', 'PeriodicKernel', 'RBFKernel', 'LinearKernel']])\n",
      "Prog(True [] [['MaternKernel', 'PeriodicKernel', 'RBFKernel', 'LinearKernel']])\n",
      "Prog(True [] [['MaternKernel', 'PeriodicKernel', 'RBFKernel', 'LinearKernel']])\n",
      "Prog(True [] [['MaternKernel', 'PeriodicKernel', 'RBFKernel', 'LinearKernel']])\n",
      "Prog(True [] [['MaternKernel', 'PeriodicKernel', 'RBFKernel', 'LinearKernel']])\n",
      "Prog(True [] [['MaternKernel', 'LinearKernel', 'RBFKernel', 'PeriodicKernel']])\n",
      "Prog(True [] [['MaternKernel', 'LinearKernel', 'RBFKernel', 'PeriodicKernel']])\n",
      "Prog(True [] [['MaternKernel', 'PeriodicKernel', 'RBFKernel', 'LinearKernel']])\n",
      "Prog(True [] [['MaternKernel', 'LinearKernel', 'RBFKernel', 'PeriodicKernel']])\n",
      "Prog(True [] [['MaternKernel', 'LinearKernel', 'RBFKernel', 'PeriodicKernel']])\n",
      "Prog(True [] [['MaternKernel', 'LinearKernel', 'RBFKernel', 'PeriodicKernel']])\n",
      "Prog(True [] [['MaternKernel', 'LinearKernel', 'RBFKernel', 'PeriodicKernel']])\n",
      "Prog(True [] [['MaternKernel', 'LinearKernel', 'RBFKernel', 'PeriodicKernel']])\n",
      "Prog(True [] [['MaternKernel', 'LinearKernel', 'RBFKernel', 'PeriodicKernel']])\n",
      "Prog(True [] [['MaternKernel', 'LinearKernel', 'RBFKernel', 'PeriodicKernel']])\n",
      "Prog(True [] [['MaternKernel', 'PeriodicKernel', 'RBFKernel', 'LinearKernel']])\n",
      "Prog(True [] [['MaternKernel', 'PeriodicKernel', 'RBFKernel', 'LinearKernel']])\n",
      "Prog(True [] [['MaternKernel', 'PeriodicKernel', 'RBFKernel', 'LinearKernel']])\n",
      "Prog(True [] [['MaternKernel', 'LinearKernel', 'RBFKernel', 'PeriodicKernel']])\n",
      "Prog(True [] [['MaternKernel', 'LinearKernel', 'RBFKernel', 'PeriodicKernel']])\n",
      "Prog(True [] [['MaternKernel', 'LinearKernel', 'RBFKernel', 'PeriodicKernel']])\n"
     ]
    }
   ],
   "source": [
    "for s in samples:\n",
    "    print(s)"
   ]
  },
  {
   "cell_type": "code",
   "execution_count": 57,
   "id": "1fa4c9c7",
   "metadata": {
    "ExecuteTime": {
     "end_time": "2022-06-22T02:54:02.442277Z",
     "start_time": "2022-06-22T02:54:02.423415Z"
    }
   },
   "outputs": [],
   "source": [
    "?pyro.sample"
   ]
  },
  {
   "cell_type": "code",
   "execution_count": 48,
   "id": "b78aec53",
   "metadata": {
    "ExecuteTime": {
     "end_time": "2022-06-22T02:46:04.725489Z",
     "start_time": "2022-06-22T02:46:04.709328Z"
    }
   },
   "outputs": [],
   "source": [
    "poutine.queue(full_model)"
   ]
  },
  {
   "cell_type": "code",
   "execution_count": 33,
   "id": "61a7414e",
   "metadata": {
    "ExecuteTime": {
     "end_time": "2022-06-22T02:34:34.463684Z",
     "start_time": "2022-06-22T02:34:34.452671Z"
    }
   },
   "outputs": [],
   "source": [
    "res = a.greedy_search(full_model, depth=1)"
   ]
  },
  {
   "cell_type": "code",
   "execution_count": 34,
   "id": "a4b28d74",
   "metadata": {
    "ExecuteTime": {
     "end_time": "2022-06-22T02:34:38.118614Z",
     "start_time": "2022-06-22T02:34:37.786661Z"
    }
   },
   "outputs": [
    {
     "ename": "ValueError",
     "evalue": "must provide trace or params to replay against",
     "output_type": "error",
     "traceback": [
      "\u001b[0;31m---------------------------------------------------------------------------\u001b[0m",
      "\u001b[0;31mValueError\u001b[0m                                Traceback (most recent call last)",
      "Input \u001b[0;32mIn [34]\u001b[0m, in \u001b[0;36m<cell line: 1>\u001b[0;34m()\u001b[0m\n\u001b[0;32m----> 1\u001b[0m prog, logp, kern, _ \u001b[38;5;241m=\u001b[39m \u001b[43mpoutine\u001b[49m\u001b[38;5;241;43m.\u001b[39;49m\u001b[43mreplay\u001b[49m\u001b[43m(\u001b[49m\u001b[43ma\u001b[49m\u001b[38;5;241;43m.\u001b[39;49m\u001b[43mpath_guide\u001b[49m\u001b[43m,\u001b[49m\u001b[43m \u001b[49m\u001b[43mtrace\u001b[49m\u001b[38;5;241;43m=\u001b[39;49m\u001b[43mres\u001b[49m\u001b[43m)\u001b[49m(KERNS)\n",
      "File \u001b[0;32m~/.local/lib/python3.10/site-packages/pyro/poutine/handlers.py:116\u001b[0m, in \u001b[0;36m_make_handler.<locals>.handler\u001b[0;34m(fn, *args, **kwargs)\u001b[0m\n\u001b[1;32m    108\u001b[0m \u001b[38;5;28;01mif\u001b[39;00m fn \u001b[38;5;129;01mis\u001b[39;00m \u001b[38;5;129;01mnot\u001b[39;00m \u001b[38;5;28;01mNone\u001b[39;00m \u001b[38;5;129;01mand\u001b[39;00m \u001b[38;5;129;01mnot\u001b[39;00m (\n\u001b[1;32m    109\u001b[0m     callable(fn) \u001b[38;5;129;01mor\u001b[39;00m \u001b[38;5;28misinstance\u001b[39m(fn, collections\u001b[38;5;241m.\u001b[39mabc\u001b[38;5;241m.\u001b[39mIterable)\n\u001b[1;32m    110\u001b[0m ):\n\u001b[1;32m    111\u001b[0m     \u001b[38;5;28;01mraise\u001b[39;00m \u001b[38;5;167;01mValueError\u001b[39;00m(\n\u001b[1;32m    112\u001b[0m         \u001b[38;5;124m\"\u001b[39m\u001b[38;5;132;01m{}\u001b[39;00m\u001b[38;5;124m is not callable, did you mean to pass it as a keyword arg?\u001b[39m\u001b[38;5;124m\"\u001b[39m\u001b[38;5;241m.\u001b[39mformat(\n\u001b[1;32m    113\u001b[0m             fn\n\u001b[1;32m    114\u001b[0m         )\n\u001b[1;32m    115\u001b[0m     )\n\u001b[0;32m--> 116\u001b[0m msngr \u001b[38;5;241m=\u001b[39m \u001b[43mmsngr_cls\u001b[49m\u001b[43m(\u001b[49m\u001b[38;5;241;43m*\u001b[39;49m\u001b[43margs\u001b[49m\u001b[43m,\u001b[49m\u001b[43m \u001b[49m\u001b[38;5;241;43m*\u001b[39;49m\u001b[38;5;241;43m*\u001b[39;49m\u001b[43mkwargs\u001b[49m\u001b[43m)\u001b[49m\n\u001b[1;32m    117\u001b[0m \u001b[38;5;28;01mreturn\u001b[39;00m (\n\u001b[1;32m    118\u001b[0m     functools\u001b[38;5;241m.\u001b[39mupdate_wrapper(msngr(fn), fn, updated\u001b[38;5;241m=\u001b[39m())\n\u001b[1;32m    119\u001b[0m     \u001b[38;5;28;01mif\u001b[39;00m fn \u001b[38;5;129;01mis\u001b[39;00m \u001b[38;5;129;01mnot\u001b[39;00m \u001b[38;5;28;01mNone\u001b[39;00m\n\u001b[1;32m    120\u001b[0m     \u001b[38;5;28;01melse\u001b[39;00m msngr\n\u001b[1;32m    121\u001b[0m )\n",
      "File \u001b[0;32m~/.local/lib/python3.10/site-packages/pyro/poutine/replay_messenger.py:44\u001b[0m, in \u001b[0;36mReplayMessenger.__init__\u001b[0;34m(self, trace, params)\u001b[0m\n\u001b[1;32m     42\u001b[0m \u001b[38;5;28msuper\u001b[39m()\u001b[38;5;241m.\u001b[39m\u001b[38;5;21m__init__\u001b[39m()\n\u001b[1;32m     43\u001b[0m \u001b[38;5;28;01mif\u001b[39;00m trace \u001b[38;5;129;01mis\u001b[39;00m \u001b[38;5;28;01mNone\u001b[39;00m \u001b[38;5;129;01mand\u001b[39;00m params \u001b[38;5;129;01mis\u001b[39;00m \u001b[38;5;28;01mNone\u001b[39;00m:\n\u001b[0;32m---> 44\u001b[0m     \u001b[38;5;28;01mraise\u001b[39;00m \u001b[38;5;167;01mValueError\u001b[39;00m(\u001b[38;5;124m\"\u001b[39m\u001b[38;5;124mmust provide trace or params to replay against\u001b[39m\u001b[38;5;124m\"\u001b[39m)\n\u001b[1;32m     45\u001b[0m \u001b[38;5;28mself\u001b[39m\u001b[38;5;241m.\u001b[39mtrace \u001b[38;5;241m=\u001b[39m trace\n\u001b[1;32m     46\u001b[0m \u001b[38;5;28mself\u001b[39m\u001b[38;5;241m.\u001b[39mparams \u001b[38;5;241m=\u001b[39m params\n",
      "\u001b[0;31mValueError\u001b[0m: must provide trace or params to replay against"
     ]
    }
   ],
   "source": [
    "prog, logp, kern, _ = poutine.replay(a.path_guide, trace=res)(KERNS)"
   ]
  },
  {
   "cell_type": "code",
   "execution_count": 30,
   "id": "99c229c1",
   "metadata": {
    "ExecuteTime": {
     "end_time": "2022-06-22T02:34:10.271043Z",
     "start_time": "2022-06-22T02:34:10.253114Z"
    }
   },
   "outputs": [
    {
     "data": {
      "text/plain": [
       "\"Prog(True [] [['MaternKernel', 'PeriodicKernel']])\""
      ]
     },
     "execution_count": 30,
     "metadata": {},
     "output_type": "execute_result"
    }
   ],
   "source": [
    "str(prog)"
   ]
  },
  {
   "cell_type": "markdown",
   "id": "109c8e73",
   "metadata": {},
   "source": [
    "## ELBO GFlow Training"
   ]
  },
  {
   "cell_type": "code",
   "execution_count": 45,
   "id": "009b111e",
   "metadata": {
    "ExecuteTime": {
     "end_time": "2022-06-21T21:21:52.388329Z",
     "start_time": "2022-06-21T21:21:52.371533Z"
    }
   },
   "outputs": [],
   "source": [
    "pyro.clear_param_store()\n",
    "KERNS = {}\n",
    "opt = Adam({\"lr\": 1e-3, \"betas\": (0.90, 0.999)})"
   ]
  },
  {
   "cell_type": "code",
   "execution_count": 46,
   "id": "92755a67",
   "metadata": {
    "ExecuteTime": {
     "end_time": "2022-06-21T21:24:37.050714Z",
     "start_time": "2022-06-21T21:21:52.389832Z"
    }
   },
   "outputs": [
    {
     "name": "stderr",
     "output_type": "stream",
     "text": [
      "/home/sam/.local/lib/python3.10/site-packages/gpytorch/lazy/triangular_lazy_tensor.py:130: UserWarning: torch.triangular_solve is deprecated in favor of torch.linalg.solve_triangularand will be removed in a future PyTorch release.\n",
      "torch.linalg.solve_triangular has its arguments reversed and does not return a copy of one of the inputs.\n",
      "X = torch.triangular_solve(B, A).solution\n",
      "should be replaced with\n",
      "X = torch.linalg.solve_triangular(A, B). (Triggered internally at  /build/python-pytorch/src/pytorch-1.11.0/aten/src/ATen/native/BatchLinearAlgebra.cpp:1666.)\n",
      "  res = torch.triangular_solve(right_tensor, self.evaluate(), upper=self.upper).solution\n",
      "/home/sam/.local/lib/python3.10/site-packages/gpytorch/utils/cholesky.py:38: NumericalWarning: A not p.d., added jitter of 1.0e-06 to the diagonal\n",
      "  warnings.warn(\n",
      "/home/sam/.local/lib/python3.10/site-packages/gpytorch/utils/cholesky.py:38: NumericalWarning: A not p.d., added jitter of 1.0e-05 to the diagonal\n",
      "  warnings.warn(\n"
     ]
    }
   ],
   "source": [
    "accum_loss = torch.tensor(0.0)\n",
    "accum_kl= torch.tensor(0.0)\n",
    "for epoch in range(1000 * LOGRATE):\n",
    "    with poutine.trace() as capture:\n",
    "        prog, logp, kern, newkern = a.path_guide(KERNS)\n",
    "    for _ in range(10 if newkern else 1):\n",
    "        tr = poutine.trace(a.gp_model).get_trace(prog, MEAN, kern, x1, fancy_y)\n",
    "        loss = -tr.log_prob_sum()\n",
    "        params = [n['value'].unconstrained()\n",
    "              for n in tr.nodes.values() if n['type'] == 'param']\n",
    "        loss.backward()\n",
    "        opt(params)\n",
    "        pyro.infer.util.zero_grads(params)\n",
    "    logq = capture.trace.log_prob_sum()\n",
    "    if epoch % LOGRATE == 0:\n",
    "        vis.line(X=torch.tensor([epoch / LOGRATE]),\n",
    "                 Y=accum_kl[None] / LOGRATE,\n",
    "            update='append', win='eg_kl', opts={\n",
    "                'title': \"Elbo GFlow KL estimate\"})\n",
    "        vis.line(X=torch.tensor([epoch / LOGRATE]),\n",
    "                 Y=accum_loss[None] / LOGRATE,\n",
    "            update='append', win='eg_loss', opts={\n",
    "                'title': \"Elbo GFlow Loss\"})\n",
    "        accum_loss.zero_()\n",
    "        accum_kl.zero_()\n",
    "        validation = torch.tensor(0.0)\n",
    "        with torch.no_grad():\n",
    "            for _ in range(10):\n",
    "                tr2 = poutine.trace(a.gp_model).get_trace(prog, MEAN, kern, x2, fancy_y2)\n",
    "                validation += tr2.log_prob_sum()\n",
    "            validation_logp = validation / 10\n",
    "            vis.line(X=torch.tensor([epoch / LOGRATE]),\n",
    "                 Y=validation_logp[None],\n",
    "                update='append', win='eg_validation', opts={\n",
    "                    'title': \"Elbo GFlow Validation Logp\"})\n",
    "    kl_sample = (logq - logp + (loss / len(x1))).detach()\n",
    "    accum_kl += (logq - logp).detach()\n",
    "    accum_loss += loss.detach() / len(x1)\n",
    "    outer_loss = logq * kl_sample\n",
    "    outer_loss.backward()\n",
    "    outer_params = [n['value'].unconstrained()\n",
    "        for n in capture.trace.nodes.values() if n['type'] == 'param']\n",
    "    opt(outer_params)\n",
    "    pyro.infer.util.zero_grads(outer_params) "
   ]
  },
  {
   "cell_type": "markdown",
   "id": "58285bc4",
   "metadata": {
    "heading_collapsed": true
   },
   "source": [
    "## Original GFlow Training"
   ]
  },
  {
   "cell_type": "code",
   "execution_count": 93,
   "id": "8a98f1ea",
   "metadata": {
    "ExecuteTime": {
     "end_time": "2022-06-21T19:15:32.463328Z",
     "start_time": "2022-06-21T19:15:32.450363Z"
    },
    "hidden": true
   },
   "outputs": [],
   "source": [
    "pyro.clear_param_store()\n",
    "KERNS = {}\n",
    "opt = Adam({\"lr\": 1e-3, \"betas\": (0.90, 0.999)})"
   ]
  },
  {
   "cell_type": "code",
   "execution_count": null,
   "id": "2d23e68c",
   "metadata": {
    "ExecuteTime": {
     "end_time": "2022-06-21T15:00:11.438267Z",
     "start_time": "2022-06-21T14:57:00.211736Z"
    },
    "hidden": true
   },
   "outputs": [],
   "source": [
    "accum_loss = torch.tensor(0.0)\n",
    "logz = torch.tensor(0.0, requires_grad=True)\n",
    "for epoch in range(300000):\n",
    "    with poutine.trace() as capture:\n",
    "        prog, logp, kern, newkern = a.path_guide(KERNS)\n",
    "    for _ in range(10 if newkern else 1):\n",
    "        tr = poutine.trace(a.gp_model).get_trace(prog, MEAN, kern, x, fancy_y)\n",
    "        loss = -tr.log_prob_sum()\n",
    "        params = [n['value'].unconstrained()\n",
    "              for n in tr.nodes.values() if n['type'] == 'param']\n",
    "        loss.backward()\n",
    "        opt(params)\n",
    "        pyro.infer.util.zero_grads(params)\n",
    "    path = get_path(capture)\n",
    "    logq = capture.trace.log_prob_sum()\n",
    "    if epoch % LOGRATE == 0:\n",
    "        vis.line(X=torch.tensor([epoch / LOGRATE]),\n",
    "                 Y=accum_loss[None] / LOGRATE,\n",
    "            update='append', win='loss2', opts={\n",
    "                'title': \"Loss2\"})\n",
    "        accum_loss.zero_()\n",
    "    outer_loss = torch.square(logq - logp + logz)\n",
    "    accum_loss += outer_loss.detach()\n",
    "    outer_loss.backward()\n",
    "    outer_params = [n['value'].unconstrained()\n",
    "        for n in capture.trace.nodes.values() if n['type'] == 'param']\n",
    "    outer_params.append(logz)\n",
    "    opt(outer_params)\n",
    "    pyro.infer.util.zero_grads(outer_params) "
   ]
  },
  {
   "cell_type": "markdown",
   "id": "e5756aad",
   "metadata": {
    "heading_collapsed": true
   },
   "source": [
    "## REINFORCE Training"
   ]
  },
  {
   "cell_type": "code",
   "execution_count": 103,
   "id": "15ddb375",
   "metadata": {
    "ExecuteTime": {
     "end_time": "2022-06-21T20:00:41.084540Z",
     "start_time": "2022-06-21T20:00:41.021603Z"
    },
    "hidden": true
   },
   "outputs": [],
   "source": [
    "pyro.clear_param_store()\n",
    "KERNS = {}\n",
    "opt = Adam({\"lr\": 1e-3, \"betas\": (0.90, 0.999)})"
   ]
  },
  {
   "cell_type": "code",
   "execution_count": 104,
   "id": "4ab037b7",
   "metadata": {
    "ExecuteTime": {
     "end_time": "2022-06-21T20:07:16.465974Z",
     "start_time": "2022-06-21T20:00:41.098860Z"
    },
    "hidden": true
   },
   "outputs": [
    {
     "ename": "KeyboardInterrupt",
     "evalue": "",
     "output_type": "error",
     "traceback": [
      "\u001b[0;31m---------------------------------------------------------------------------\u001b[0m",
      "\u001b[0;31mKeyboardInterrupt\u001b[0m                         Traceback (most recent call last)",
      "Input \u001b[0;32mIn [104]\u001b[0m, in \u001b[0;36m<cell line: 2>\u001b[0;34m()\u001b[0m\n\u001b[1;32m      5\u001b[0m \u001b[38;5;28;01mfor\u001b[39;00m _ \u001b[38;5;129;01min\u001b[39;00m \u001b[38;5;28mrange\u001b[39m(\u001b[38;5;241m10\u001b[39m \u001b[38;5;28;01mif\u001b[39;00m newkern \u001b[38;5;28;01melse\u001b[39;00m \u001b[38;5;241m1\u001b[39m):\n\u001b[1;32m      6\u001b[0m     tr \u001b[38;5;241m=\u001b[39m poutine\u001b[38;5;241m.\u001b[39mtrace(a\u001b[38;5;241m.\u001b[39mgp_model)\u001b[38;5;241m.\u001b[39mget_trace(prog, MEAN, kern, x, fancy_y)\n\u001b[0;32m----> 7\u001b[0m     loss \u001b[38;5;241m=\u001b[39m \u001b[38;5;241m-\u001b[39m\u001b[43mtr\u001b[49m\u001b[38;5;241;43m.\u001b[39;49m\u001b[43mlog_prob_sum\u001b[49m\u001b[43m(\u001b[49m\u001b[43m)\u001b[49m\n\u001b[1;32m      8\u001b[0m     params \u001b[38;5;241m=\u001b[39m [n[\u001b[38;5;124m'\u001b[39m\u001b[38;5;124mvalue\u001b[39m\u001b[38;5;124m'\u001b[39m]\u001b[38;5;241m.\u001b[39munconstrained()\n\u001b[1;32m      9\u001b[0m           \u001b[38;5;28;01mfor\u001b[39;00m n \u001b[38;5;129;01min\u001b[39;00m tr\u001b[38;5;241m.\u001b[39mnodes\u001b[38;5;241m.\u001b[39mvalues() \u001b[38;5;28;01mif\u001b[39;00m n[\u001b[38;5;124m'\u001b[39m\u001b[38;5;124mtype\u001b[39m\u001b[38;5;124m'\u001b[39m] \u001b[38;5;241m==\u001b[39m \u001b[38;5;124m'\u001b[39m\u001b[38;5;124mparam\u001b[39m\u001b[38;5;124m'\u001b[39m]\n\u001b[1;32m     10\u001b[0m     loss\u001b[38;5;241m.\u001b[39mbackward()\n",
      "File \u001b[0;32m~/.local/lib/python3.10/site-packages/pyro/poutine/trace_struct.py:196\u001b[0m, in \u001b[0;36mTrace.log_prob_sum\u001b[0;34m(self, site_filter)\u001b[0m\n\u001b[1;32m    194\u001b[0m \u001b[38;5;28;01melse\u001b[39;00m:\n\u001b[1;32m    195\u001b[0m     \u001b[38;5;28;01mtry\u001b[39;00m:\n\u001b[0;32m--> 196\u001b[0m         log_p \u001b[38;5;241m=\u001b[39m \u001b[43msite\u001b[49m\u001b[43m[\u001b[49m\u001b[38;5;124;43m\"\u001b[39;49m\u001b[38;5;124;43mfn\u001b[39;49m\u001b[38;5;124;43m\"\u001b[39;49m\u001b[43m]\u001b[49m\u001b[38;5;241;43m.\u001b[39;49m\u001b[43mlog_prob\u001b[49m\u001b[43m(\u001b[49m\n\u001b[1;32m    197\u001b[0m \u001b[43m            \u001b[49m\u001b[43msite\u001b[49m\u001b[43m[\u001b[49m\u001b[38;5;124;43m\"\u001b[39;49m\u001b[38;5;124;43mvalue\u001b[39;49m\u001b[38;5;124;43m\"\u001b[39;49m\u001b[43m]\u001b[49m\u001b[43m,\u001b[49m\u001b[43m \u001b[49m\u001b[38;5;241;43m*\u001b[39;49m\u001b[43msite\u001b[49m\u001b[43m[\u001b[49m\u001b[38;5;124;43m\"\u001b[39;49m\u001b[38;5;124;43margs\u001b[39;49m\u001b[38;5;124;43m\"\u001b[39;49m\u001b[43m]\u001b[49m\u001b[43m,\u001b[49m\u001b[43m \u001b[49m\u001b[38;5;241;43m*\u001b[39;49m\u001b[38;5;241;43m*\u001b[39;49m\u001b[43msite\u001b[49m\u001b[43m[\u001b[49m\u001b[38;5;124;43m\"\u001b[39;49m\u001b[38;5;124;43mkwargs\u001b[39;49m\u001b[38;5;124;43m\"\u001b[39;49m\u001b[43m]\u001b[49m\n\u001b[1;32m    198\u001b[0m \u001b[43m        \u001b[49m\u001b[43m)\u001b[49m\n\u001b[1;32m    199\u001b[0m     \u001b[38;5;28;01mexcept\u001b[39;00m \u001b[38;5;167;01mValueError\u001b[39;00m \u001b[38;5;28;01mas\u001b[39;00m e:\n\u001b[1;32m    200\u001b[0m         _, exc_value, traceback \u001b[38;5;241m=\u001b[39m sys\u001b[38;5;241m.\u001b[39mexc_info()\n",
      "File \u001b[0;32m~/.local/lib/python3.10/site-packages/gpytorch/distributions/multivariate_normal.py:171\u001b[0m, in \u001b[0;36mMultivariateNormal.log_prob\u001b[0;34m(self, value)\u001b[0m\n\u001b[1;32m    168\u001b[0m covar \u001b[38;5;241m=\u001b[39m covar\u001b[38;5;241m.\u001b[39mevaluate_kernel()\n\u001b[1;32m    169\u001b[0m inv_quad, logdet \u001b[38;5;241m=\u001b[39m covar\u001b[38;5;241m.\u001b[39minv_quad_logdet(inv_quad_rhs\u001b[38;5;241m=\u001b[39mdiff\u001b[38;5;241m.\u001b[39munsqueeze(\u001b[38;5;241m-\u001b[39m\u001b[38;5;241m1\u001b[39m), logdet\u001b[38;5;241m=\u001b[39m\u001b[38;5;28;01mTrue\u001b[39;00m)\n\u001b[0;32m--> 171\u001b[0m res \u001b[38;5;241m=\u001b[39m \u001b[38;5;241m-\u001b[39m\u001b[38;5;241m0.5\u001b[39m \u001b[38;5;241m*\u001b[39m \u001b[38;5;28;43msum\u001b[39;49m\u001b[43m(\u001b[49m\u001b[43m[\u001b[49m\u001b[43minv_quad\u001b[49m\u001b[43m,\u001b[49m\u001b[43m \u001b[49m\u001b[43mlogdet\u001b[49m\u001b[43m,\u001b[49m\u001b[43m \u001b[49m\u001b[43mdiff\u001b[49m\u001b[38;5;241;43m.\u001b[39;49m\u001b[43msize\u001b[49m\u001b[43m(\u001b[49m\u001b[38;5;241;43m-\u001b[39;49m\u001b[38;5;241;43m1\u001b[39;49m\u001b[43m)\u001b[49m\u001b[43m \u001b[49m\u001b[38;5;241;43m*\u001b[39;49m\u001b[43m \u001b[49m\u001b[43mmath\u001b[49m\u001b[38;5;241;43m.\u001b[39;49m\u001b[43mlog\u001b[49m\u001b[43m(\u001b[49m\u001b[38;5;241;43m2\u001b[39;49m\u001b[43m \u001b[49m\u001b[38;5;241;43m*\u001b[39;49m\u001b[43m \u001b[49m\u001b[43mmath\u001b[49m\u001b[38;5;241;43m.\u001b[39;49m\u001b[43mpi\u001b[49m\u001b[43m)\u001b[49m\u001b[43m]\u001b[49m\u001b[43m)\u001b[49m\n\u001b[1;32m    172\u001b[0m \u001b[38;5;28;01mreturn\u001b[39;00m res\n",
      "\u001b[0;31mKeyboardInterrupt\u001b[0m: "
     ]
    }
   ],
   "source": [
    "accum_loss = torch.tensor(0.0)\n",
    "for epoch in range(300000):\n",
    "    with poutine.trace() as capture:\n",
    "        prog, logp, kern, newkern = a.path_guide(KERNS)\n",
    "    for _ in range(10 if newkern else 1):\n",
    "        tr = poutine.trace(a.gp_model).get_trace(prog, MEAN, kern, x, fancy_y)\n",
    "        loss = -tr.log_prob_sum()\n",
    "        params = [n['value'].unconstrained()\n",
    "              for n in tr.nodes.values() if n['type'] == 'param']\n",
    "        loss.backward()\n",
    "        opt(params)\n",
    "#         print(\"Inner\", loss.item())\n",
    "        pyro.infer.util.zero_grads(params)\n",
    "    path = get_path(capture)\n",
    "    logq = capture.trace.log_prob_sum()\n",
    "    if epoch % LOGRATE == 0:\n",
    "        vis.line(X=torch.tensor([epoch / LOGRATE]),\n",
    "                 Y=accum_loss[None] / LOGRATE,\n",
    "            update='append', win='rf_loss', opts={\n",
    "                'title': \"REINFORCE Loss\"})\n",
    "        accum_loss.zero_()\n",
    "        validation = torch.tensor(0.0)\n",
    "        with torch.no_grad():\n",
    "            for _ in range(10):\n",
    "                tr2 = poutine.trace(a.gp_model).get_trace(prog, MEAN, kern, x2, y2)\n",
    "                validation += tr2.log_prob_sum()\n",
    "            validation_logp = validation / 10\n",
    "            vis.line(X=torch.tensor([epoch / LOGRATE]),\n",
    "                 Y=validation_logp[None],\n",
    "                update='append', win='rf_validation', opts={\n",
    "                    'title': \"REINFORCE GFlow Validation Logp\"})\n",
    "    outer_loss = loss.detach() * logq\n",
    "    outer_loss.backward()\n",
    "    accum_loss += loss.detach()\n",
    "    outer_params = [n['value'].unconstrained()\n",
    "        for n in capture.trace.nodes.values() if n['type'] == 'param']\n",
    "    opt(outer_params)\n",
    "    pyro.infer.util.zero_grads(outer_params) "
   ]
  },
  {
   "cell_type": "markdown",
   "id": "cb29ded2",
   "metadata": {
    "hidden": true
   },
   "source": [
    "TODO: the topk interpretation."
   ]
  },
  {
   "cell_type": "code",
   "execution_count": null,
   "id": "061e0dbb",
   "metadata": {
    "hidden": true
   },
   "outputs": [],
   "source": []
  }
 ],
 "metadata": {
  "@webio": {
   "lastCommId": null,
   "lastKernelId": null
  },
  "kernelspec": {
   "display_name": "Python 3 (ipykernel)",
   "language": "python",
   "name": "python3"
  },
  "language_info": {
   "codemirror_mode": {
    "name": "ipython",
    "version": 3
   },
   "file_extension": ".py",
   "mimetype": "text/x-python",
   "name": "python",
   "nbconvert_exporter": "python",
   "pygments_lexer": "ipython3",
   "version": "3.10.5"
  }
 },
 "nbformat": 4,
 "nbformat_minor": 5
}

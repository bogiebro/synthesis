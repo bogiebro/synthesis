{
 "cells": [
  {
   "cell_type": "markdown",
   "id": "6da62732",
   "metadata": {},
   "source": [
    "## Imports"
   ]
  },
  {
   "cell_type": "code",
   "execution_count": 1,
   "id": "1fff392c",
   "metadata": {
    "ExecuteTime": {
     "end_time": "2022-06-22T21:32:04.867829Z",
     "start_time": "2022-06-22T21:32:03.198354Z"
    }
   },
   "outputs": [],
   "source": [
    "%autoreload\n",
    "from collections import defaultdict\n",
    "import itertools\n",
    "import torch\n",
    "import pyro\n",
    "import pyro.distributions as dist\n",
    "from pyro.infer import Predictive, SVI, Trace_ELBO, TraceGraph_ELBO, config_enumerate\n",
    "from pyro import poutine\n",
    "from pyro.optim import Adam\n",
    "import gpytorch as gp\n",
    "from gpytorch.kernels import RBFKernel, PeriodicKernel, ScaleKernel, ProductKernel, LinearKernel, AdditiveKernel\n",
    "import visdom\n",
    "import pdb\n",
    "from pmextract import extract\n",
    "import matplotlib.pyplot as plt\n",
    "import autostat as a\n",
    "from pyrsistent import pset, s\n",
    "import functools\n",
    "from queue import Queue\n",
    "import time"
   ]
  },
  {
   "cell_type": "code",
   "execution_count": 2,
   "id": "538f3814",
   "metadata": {
    "ExecuteTime": {
     "end_time": "2022-06-22T21:32:04.894163Z",
     "start_time": "2022-06-22T21:32:04.871358Z"
    }
   },
   "outputs": [],
   "source": [
    "LOGRATE = 20"
   ]
  },
  {
   "cell_type": "code",
   "execution_count": 3,
   "id": "381cd84b",
   "metadata": {
    "ExecuteTime": {
     "end_time": "2022-06-22T21:32:05.038296Z",
     "start_time": "2022-06-22T21:32:04.897813Z"
    }
   },
   "outputs": [
    {
     "name": "stderr",
     "output_type": "stream",
     "text": [
      "Setting up a new session...\n"
     ]
    }
   ],
   "source": [
    "vis = visdom.Visdom(env='nb')"
   ]
  },
  {
   "cell_type": "markdown",
   "id": "55049d4c",
   "metadata": {
    "heading_collapsed": true
   },
   "source": [
    "## Fake Data"
   ]
  },
  {
   "cell_type": "code",
   "execution_count": 27,
   "id": "974a6dc4",
   "metadata": {
    "ExecuteTime": {
     "end_time": "2022-06-22T21:35:11.258681Z",
     "start_time": "2022-06-22T21:35:11.221945Z"
    },
    "hidden": true
   },
   "outputs": [],
   "source": [
    "p = a.Prog(s(), s(s(a.Action.Linear), s(a.Action.Periodic, a.Action.RBF)), True)"
   ]
  },
  {
   "cell_type": "code",
   "execution_count": 28,
   "id": "077f5ddb",
   "metadata": {
    "ExecuteTime": {
     "end_time": "2022-06-22T21:35:11.294392Z",
     "start_time": "2022-06-22T21:35:11.263813Z"
    },
    "hidden": true
   },
   "outputs": [
    {
     "data": {
      "text/plain": [
       "Prog(builder=pset(), adds=pset([pset([<Action.Periodic: 3>, <Action.RBF: 4>]), pset([<Action.Linear: 5>])]), done=True)"
      ]
     },
     "execution_count": 28,
     "metadata": {},
     "output_type": "execute_result"
    }
   ],
   "source": [
    "p"
   ]
  },
  {
   "cell_type": "code",
   "execution_count": 29,
   "id": "20d6f197",
   "metadata": {
    "ExecuteTime": {
     "end_time": "2022-06-22T21:35:11.336102Z",
     "start_time": "2022-06-22T21:35:11.298435Z"
    },
    "hidden": true
   },
   "outputs": [],
   "source": [
    "k = a.to_kernel(p)"
   ]
  },
  {
   "cell_type": "code",
   "execution_count": 30,
   "id": "07012d8a",
   "metadata": {
    "ExecuteTime": {
     "end_time": "2022-06-22T21:35:11.369102Z",
     "start_time": "2022-06-22T21:35:11.339892Z"
    },
    "hidden": true
   },
   "outputs": [],
   "source": [
    "x = (torch.arange(100) / 30)"
   ]
  },
  {
   "cell_type": "code",
   "execution_count": 31,
   "id": "024679ab",
   "metadata": {
    "ExecuteTime": {
     "end_time": "2022-06-22T21:35:11.401996Z",
     "start_time": "2022-06-22T21:35:11.372493Z"
    },
    "hidden": true
   },
   "outputs": [],
   "source": [
    "x1 = x[:50, None]"
   ]
  },
  {
   "cell_type": "code",
   "execution_count": 32,
   "id": "19e9b27d",
   "metadata": {
    "ExecuteTime": {
     "end_time": "2022-06-22T21:35:11.434184Z",
     "start_time": "2022-06-22T21:35:11.406071Z"
    },
    "hidden": true
   },
   "outputs": [],
   "source": [
    "x2 = x[50:, None]"
   ]
  },
  {
   "cell_type": "code",
   "execution_count": 33,
   "id": "c1daf30c",
   "metadata": {
    "ExecuteTime": {
     "end_time": "2022-06-22T21:35:11.476310Z",
     "start_time": "2022-06-22T21:35:11.438380Z"
    },
    "hidden": true
   },
   "outputs": [],
   "source": [
    "fancy_y = a.gp_model(None, k, x1, None).detach()"
   ]
  },
  {
   "cell_type": "code",
   "execution_count": 34,
   "id": "f2ca39cf",
   "metadata": {
    "ExecuteTime": {
     "end_time": "2022-06-22T21:35:11.526889Z",
     "start_time": "2022-06-22T21:35:11.479975Z"
    },
    "hidden": true
   },
   "outputs": [],
   "source": [
    "with torch.no_grad():\n",
    "    fancy_y2 = k(x2, x1) @ k(x1).add_diag(torch.tensor(0.001)).inv_matmul(fancy_y)"
   ]
  },
  {
   "cell_type": "code",
   "execution_count": 35,
   "id": "3dc330c2",
   "metadata": {
    "ExecuteTime": {
     "end_time": "2022-06-22T21:35:11.756644Z",
     "start_time": "2022-06-22T21:35:11.532171Z"
    },
    "hidden": true,
    "scrolled": true
   },
   "outputs": [
    {
     "data": {
      "text/plain": [
       "[<matplotlib.lines.Line2D at 0x7f3eda16b460>]"
      ]
     },
     "execution_count": 35,
     "metadata": {},
     "output_type": "execute_result"
    },
    {
     "data": {
      "image/png": "[encoded data removed]",
      "text/plain": [
       "<Figure size 432x288 with 1 Axes>"
      ]
     },
     "metadata": {
      "needs_background": "light"
     },
     "output_type": "display_data"
    }
   ],
   "source": [
    "plt.plot(x, torch.cat((fancy_y, fancy_y2)))"
   ]
  },
  {
   "cell_type": "markdown",
   "id": "a4207722",
   "metadata": {
    "heading_collapsed": true
   },
   "source": [
    "## Greedy Training"
   ]
  },
  {
   "cell_type": "code",
   "execution_count": 36,
   "id": "768678b6",
   "metadata": {
    "ExecuteTime": {
     "end_time": "2022-06-22T21:35:19.677499Z",
     "start_time": "2022-06-22T21:35:19.651749Z"
    },
    "hidden": true
   },
   "outputs": [],
   "source": [
    "pyro.clear_param_store()\n",
    "KERNS = {}\n",
    "opt = Adam({\"lr\": 1e-3, \"betas\": (0.90, 0.999)})"
   ]
  },
  {
   "cell_type": "code",
   "execution_count": 37,
   "id": "02df81fc",
   "metadata": {
    "ExecuteTime": {
     "end_time": "2022-06-22T21:35:27.123027Z",
     "start_time": "2022-06-22T21:35:19.682107Z"
    },
    "hidden": true
   },
   "outputs": [
    {
     "name": "stdout",
     "output_type": "stream",
     "text": [
      "Best on previous level Prog(builder=pset(), adds=pset([pset([<Action.Periodic: 3>, <Action.RBF: 4>])]), done=True)\n",
      "Best on previous level Prog(builder=pset(), adds=pset([pset([<Action.Periodic: 3>, <Action.RBF: 4>]), pset([<Action.Linear: 5>])]), done=True)\n"
     ]
    }
   ],
   "source": [
    "best_logprob = -torch.inf\n",
    "best_prog = None\n",
    "level_trace = poutine.Trace()\n",
    "epoch = 0\n",
    "for d in range(1, 5):\n",
    "    def wrapped():\n",
    "        try:\n",
    "            with a.RejectionMessenger(functools.partial(a.deep_escape, d)):\n",
    "                return a.path_guide(KERNS)\n",
    "        except a.RejectException as site:\n",
    "            site.reset_stack()\n",
    "            return None\n",
    "    q = Queue()\n",
    "    q.put(level_trace)\n",
    "    queued = poutine.queue(wrapped, queue=q)\n",
    "    traces = {}\n",
    "    probs = defaultdict(lambda: torch.tensor(0.0))\n",
    "    likelihoods = {}\n",
    "    while not q.empty():\n",
    "        with poutine.trace() as capture:\n",
    "            res = queued()\n",
    "        if res is not None:\n",
    "            prog, logp, kern, newkern = res\n",
    "            probs[prog] += torch.exp(logp.detach())\n",
    "            if newkern:\n",
    "                loss = torch.tensor(0.0)\n",
    "                for _ in range(100):\n",
    "                    tr = poutine.trace(a.gp_model).get_trace(\n",
    "                        prog, kern, x1, fancy_y)\n",
    "                    loss = -tr.log_prob_sum() - a.prior_logprob(kern)\n",
    "                    params = [n['value'].unconstrained()\n",
    "                        for n in tr.nodes.values() if n['type'] == 'param']\n",
    "                    loss.backward()\n",
    "                    opt(params)\n",
    "                    pyro.infer.util.zero_grads(params)\n",
    "                trace = capture.trace\n",
    "                final_sample = [v['name'] for v in trace.nodes.values()\n",
    "                    if type(v['name']) is a.Prog][-1]\n",
    "                trace.remove_node(final_sample)\n",
    "                traces[prog] = trace\n",
    "                likelihoods[prog] = -loss.detach()\n",
    "    level_prog = None\n",
    "    level_logprob = -torch.inf\n",
    "    for key,v in likelihoods.items():\n",
    "        logp = v + probs[key]\n",
    "        if logp >= level_logprob:\n",
    "            level_logprob = logp\n",
    "            level_prog = key\n",
    "    level_trace = traces[level_prog]\n",
    "    print(\"Best on previous level\", level_prog)\n",
    "    if level_logprob > best_logprob:\n",
    "        best_logprob = level_logprob\n",
    "        best_prog = level_prog\n",
    "    else:\n",
    "        break"
   ]
  },
  {
   "cell_type": "code",
   "execution_count": 38,
   "id": "eede2b31",
   "metadata": {
    "ExecuteTime": {
     "end_time": "2022-06-22T21:35:29.537753Z",
     "start_time": "2022-06-22T21:35:29.506430Z"
    },
    "hidden": true
   },
   "outputs": [
    {
     "data": {
      "text/plain": [
       "Prog(builder=pset(), adds=pset([pset([<Action.Periodic: 3>, <Action.RBF: 4>]), pset([<Action.Linear: 5>])]), done=True)"
      ]
     },
     "execution_count": 38,
     "metadata": {},
     "output_type": "execute_result"
    }
   ],
   "source": [
    "p"
   ]
  },
  {
   "cell_type": "code",
   "execution_count": 40,
   "id": "22a8c91d",
   "metadata": {
    "ExecuteTime": {
     "end_time": "2022-06-22T21:35:33.762182Z",
     "start_time": "2022-06-22T21:35:33.716575Z"
    },
    "hidden": true
   },
   "outputs": [
    {
     "data": {
      "text/plain": [
       "tensor(27.2337, grad_fn=<AddBackward0>)"
      ]
     },
     "execution_count": 40,
     "metadata": {},
     "output_type": "execute_result"
    }
   ],
   "source": [
    "poutine.trace(a.gp_model).get_trace(p, k, x1, fancy_y).log_prob_sum()"
   ]
  },
  {
   "cell_type": "code",
   "execution_count": 41,
   "id": "d9c892b6",
   "metadata": {
    "ExecuteTime": {
     "end_time": "2022-06-22T21:35:39.660160Z",
     "start_time": "2022-06-22T21:35:39.621443Z"
    },
    "hidden": true
   },
   "outputs": [
    {
     "data": {
      "text/plain": [
       "tensor(26.8101, grad_fn=<AddBackward0>)"
      ]
     },
     "execution_count": 41,
     "metadata": {},
     "output_type": "execute_result"
    }
   ],
   "source": [
    "poutine.trace(a.gp_model).get_trace(best_prog, KERNS[best_prog], x1, fancy_y).log_prob_sum()"
   ]
  },
  {
   "cell_type": "code",
   "execution_count": 42,
   "id": "616b7e52",
   "metadata": {
    "ExecuteTime": {
     "end_time": "2022-06-22T21:35:39.709327Z",
     "start_time": "2022-06-22T21:35:39.666330Z"
    },
    "hidden": true
   },
   "outputs": [
    {
     "data": {
      "text/plain": [
       "tensor(40.0474, grad_fn=<AddBackward0>)"
      ]
     },
     "execution_count": 42,
     "metadata": {},
     "output_type": "execute_result"
    }
   ],
   "source": [
    "poutine.trace(a.gp_model).get_trace(best_prog, KERNS[best_prog], x2, fancy_y2).log_prob_sum()"
   ]
  },
  {
   "cell_type": "code",
   "execution_count": 43,
   "id": "604ea105",
   "metadata": {
    "ExecuteTime": {
     "end_time": "2022-06-22T21:35:39.762629Z",
     "start_time": "2022-06-22T21:35:39.712719Z"
    },
    "hidden": true
   },
   "outputs": [
    {
     "data": {
      "text/plain": [
       "tensor(49.2310, grad_fn=<AddBackward0>)"
      ]
     },
     "execution_count": 43,
     "metadata": {},
     "output_type": "execute_result"
    }
   ],
   "source": [
    "poutine.trace(a.gp_model).get_trace(p, k, x2, fancy_y2).log_prob_sum()"
   ]
  },
  {
   "cell_type": "markdown",
   "id": "3450b226",
   "metadata": {
    "heading_collapsed": true
   },
   "source": [
    "## ELBO GFlow Training"
   ]
  },
  {
   "cell_type": "code",
   "execution_count": 159,
   "id": "8a5250e3",
   "metadata": {
    "ExecuteTime": {
     "end_time": "2022-06-22T21:00:30.298177Z",
     "start_time": "2022-06-22T21:00:22.569210Z"
    },
    "hidden": true
   },
   "outputs": [],
   "source": [
    "pyro.clear_param_store()\n",
    "KERNS = {}\n",
    "opt = Adam({\"lr\": 1e-3, \"betas\": (0.90, 0.999)})\n",
    "secs = int(time.time())"
   ]
  },
  {
   "cell_type": "code",
   "execution_count": 160,
   "id": "706c1082",
   "metadata": {
    "ExecuteTime": {
     "end_time": "2022-06-22T21:04:15.435633Z",
     "start_time": "2022-06-22T21:00:30.300471Z"
    },
    "hidden": true
   },
   "outputs": [
    {
     "name": "stderr",
     "output_type": "stream",
     "text": [
      "/home/sam/.local/lib/python3.10/site-packages/gpytorch/utils/cholesky.py:38: NumericalWarning: A not p.d., added jitter of 1.0e-06 to the diagonal\n",
      "  warnings.warn(\n",
      "/home/sam/.local/lib/python3.10/site-packages/gpytorch/utils/cholesky.py:38: NumericalWarning: A not p.d., added jitter of 1.0e-05 to the diagonal\n",
      "  warnings.warn(\n"
     ]
    },
    {
     "ename": "KeyboardInterrupt",
     "evalue": "",
     "output_type": "error",
     "traceback": [
      "\u001b[0;31m---------------------------------------------------------------------------\u001b[0m",
      "\u001b[0;31mKeyboardInterrupt\u001b[0m                         Traceback (most recent call last)",
      "Input \u001b[0;32mIn [160]\u001b[0m, in \u001b[0;36m<cell line: 3>\u001b[0;34m()\u001b[0m\n\u001b[1;32m     28\u001b[0m \u001b[38;5;28;01mfor\u001b[39;00m _ \u001b[38;5;129;01min\u001b[39;00m \u001b[38;5;28mrange\u001b[39m(\u001b[38;5;241m10\u001b[39m):\n\u001b[1;32m     29\u001b[0m     tr2 \u001b[38;5;241m=\u001b[39m poutine\u001b[38;5;241m.\u001b[39mtrace(a\u001b[38;5;241m.\u001b[39mgp_model)\u001b[38;5;241m.\u001b[39mget_trace(prog, kern, x2, fancy_y2)\n\u001b[0;32m---> 30\u001b[0m     validation \u001b[38;5;241m+\u001b[39m\u001b[38;5;241m=\u001b[39m \u001b[43mtr2\u001b[49m\u001b[38;5;241;43m.\u001b[39;49m\u001b[43mlog_prob_sum\u001b[49m\u001b[43m(\u001b[49m\u001b[43m)\u001b[49m\n\u001b[1;32m     31\u001b[0m validation_logp \u001b[38;5;241m=\u001b[39m validation \u001b[38;5;241m/\u001b[39m \u001b[38;5;241m10\u001b[39m\n\u001b[1;32m     32\u001b[0m vis\u001b[38;5;241m.\u001b[39mline(X\u001b[38;5;241m=\u001b[39mtorch\u001b[38;5;241m.\u001b[39mtensor([epoch \u001b[38;5;241m/\u001b[39m LOGRATE]),\n\u001b[1;32m     33\u001b[0m      Y\u001b[38;5;241m=\u001b[39mvalidation_logp[\u001b[38;5;28;01mNone\u001b[39;00m],\n\u001b[1;32m     34\u001b[0m     update\u001b[38;5;241m=\u001b[39m\u001b[38;5;124m'\u001b[39m\u001b[38;5;124mappend\u001b[39m\u001b[38;5;124m'\u001b[39m, win\u001b[38;5;241m=\u001b[39m\u001b[38;5;124mf\u001b[39m\u001b[38;5;124m\"\u001b[39m\u001b[38;5;132;01m{\u001b[39;00msecs\u001b[38;5;132;01m}\u001b[39;00m\u001b[38;5;124m val\u001b[39m\u001b[38;5;124m\"\u001b[39m, opts\u001b[38;5;241m=\u001b[39m{\n\u001b[1;32m     35\u001b[0m         \u001b[38;5;124m'\u001b[39m\u001b[38;5;124mtitle\u001b[39m\u001b[38;5;124m'\u001b[39m: \u001b[38;5;124m\"\u001b[39m\u001b[38;5;124mElbo GFlow Validation Logp\u001b[39m\u001b[38;5;124m\"\u001b[39m})\n",
      "File \u001b[0;32m~/.local/lib/python3.10/site-packages/pyro/poutine/trace_struct.py:196\u001b[0m, in \u001b[0;36mTrace.log_prob_sum\u001b[0;34m(self, site_filter)\u001b[0m\n\u001b[1;32m    194\u001b[0m \u001b[38;5;28;01melse\u001b[39;00m:\n\u001b[1;32m    195\u001b[0m     \u001b[38;5;28;01mtry\u001b[39;00m:\n\u001b[0;32m--> 196\u001b[0m         log_p \u001b[38;5;241m=\u001b[39m \u001b[43msite\u001b[49m\u001b[43m[\u001b[49m\u001b[38;5;124;43m\"\u001b[39;49m\u001b[38;5;124;43mfn\u001b[39;49m\u001b[38;5;124;43m\"\u001b[39;49m\u001b[43m]\u001b[49m\u001b[38;5;241;43m.\u001b[39;49m\u001b[43mlog_prob\u001b[49m\u001b[43m(\u001b[49m\n\u001b[1;32m    197\u001b[0m \u001b[43m            \u001b[49m\u001b[43msite\u001b[49m\u001b[43m[\u001b[49m\u001b[38;5;124;43m\"\u001b[39;49m\u001b[38;5;124;43mvalue\u001b[39;49m\u001b[38;5;124;43m\"\u001b[39;49m\u001b[43m]\u001b[49m\u001b[43m,\u001b[49m\u001b[43m \u001b[49m\u001b[38;5;241;43m*\u001b[39;49m\u001b[43msite\u001b[49m\u001b[43m[\u001b[49m\u001b[38;5;124;43m\"\u001b[39;49m\u001b[38;5;124;43margs\u001b[39;49m\u001b[38;5;124;43m\"\u001b[39;49m\u001b[43m]\u001b[49m\u001b[43m,\u001b[49m\u001b[43m \u001b[49m\u001b[38;5;241;43m*\u001b[39;49m\u001b[38;5;241;43m*\u001b[39;49m\u001b[43msite\u001b[49m\u001b[43m[\u001b[49m\u001b[38;5;124;43m\"\u001b[39;49m\u001b[38;5;124;43mkwargs\u001b[39;49m\u001b[38;5;124;43m\"\u001b[39;49m\u001b[43m]\u001b[49m\n\u001b[1;32m    198\u001b[0m \u001b[43m        \u001b[49m\u001b[43m)\u001b[49m\n\u001b[1;32m    199\u001b[0m     \u001b[38;5;28;01mexcept\u001b[39;00m \u001b[38;5;167;01mValueError\u001b[39;00m \u001b[38;5;28;01mas\u001b[39;00m e:\n\u001b[1;32m    200\u001b[0m         _, exc_value, traceback \u001b[38;5;241m=\u001b[39m sys\u001b[38;5;241m.\u001b[39mexc_info()\n",
      "File \u001b[0;32m~/.local/lib/python3.10/site-packages/gpytorch/distributions/multivariate_normal.py:169\u001b[0m, in \u001b[0;36mMultivariateNormal.log_prob\u001b[0;34m(self, value)\u001b[0m\n\u001b[1;32m    167\u001b[0m \u001b[38;5;66;03m# Get log determininant and first part of quadratic form\u001b[39;00m\n\u001b[1;32m    168\u001b[0m covar \u001b[38;5;241m=\u001b[39m covar\u001b[38;5;241m.\u001b[39mevaluate_kernel()\n\u001b[0;32m--> 169\u001b[0m inv_quad, logdet \u001b[38;5;241m=\u001b[39m \u001b[43mcovar\u001b[49m\u001b[38;5;241;43m.\u001b[39;49m\u001b[43minv_quad_logdet\u001b[49m\u001b[43m(\u001b[49m\u001b[43minv_quad_rhs\u001b[49m\u001b[38;5;241;43m=\u001b[39;49m\u001b[43mdiff\u001b[49m\u001b[38;5;241;43m.\u001b[39;49m\u001b[43munsqueeze\u001b[49m\u001b[43m(\u001b[49m\u001b[38;5;241;43m-\u001b[39;49m\u001b[38;5;241;43m1\u001b[39;49m\u001b[43m)\u001b[49m\u001b[43m,\u001b[49m\u001b[43m \u001b[49m\u001b[43mlogdet\u001b[49m\u001b[38;5;241;43m=\u001b[39;49m\u001b[38;5;28;43;01mTrue\u001b[39;49;00m\u001b[43m)\u001b[49m\n\u001b[1;32m    171\u001b[0m res \u001b[38;5;241m=\u001b[39m \u001b[38;5;241m-\u001b[39m\u001b[38;5;241m0.5\u001b[39m \u001b[38;5;241m*\u001b[39m \u001b[38;5;28msum\u001b[39m([inv_quad, logdet, diff\u001b[38;5;241m.\u001b[39msize(\u001b[38;5;241m-\u001b[39m\u001b[38;5;241m1\u001b[39m) \u001b[38;5;241m*\u001b[39m math\u001b[38;5;241m.\u001b[39mlog(\u001b[38;5;241m2\u001b[39m \u001b[38;5;241m*\u001b[39m math\u001b[38;5;241m.\u001b[39mpi)])\n\u001b[1;32m    172\u001b[0m \u001b[38;5;28;01mreturn\u001b[39;00m res\n",
      "File \u001b[0;32m~/.local/lib/python3.10/site-packages/gpytorch/lazy/lazy_tensor.py:1278\u001b[0m, in \u001b[0;36mLazyTensor.inv_quad_logdet\u001b[0;34m(self, inv_quad_rhs, logdet, reduce_inv_quad)\u001b[0m\n\u001b[1;32m   1265\u001b[0m \u001b[38;5;124;03m\"\"\"\u001b[39;00m\n\u001b[1;32m   1266\u001b[0m \u001b[38;5;124;03mComputes an inverse quadratic form (w.r.t self) with several right hand sides.\u001b[39;00m\n\u001b[1;32m   1267\u001b[0m \u001b[38;5;124;03mI.e. computes tr( tensor^T self^{-1} tensor )\u001b[39;00m\n\u001b[0;32m   (...)\u001b[0m\n\u001b[1;32m   1275\u001b[0m \u001b[38;5;124;03m    - scalar - log determinant\u001b[39;00m\n\u001b[1;32m   1276\u001b[0m \u001b[38;5;124;03m\"\"\"\u001b[39;00m\n\u001b[1;32m   1277\u001b[0m \u001b[38;5;66;03m# Special case: use Cholesky to compute these terms\u001b[39;00m\n\u001b[0;32m-> 1278\u001b[0m \u001b[38;5;28;01mif\u001b[39;00m settings\u001b[38;5;241m.\u001b[39mfast_computations\u001b[38;5;241m.\u001b[39mlog_prob\u001b[38;5;241m.\u001b[39moff() \u001b[38;5;129;01mor\u001b[39;00m (\u001b[38;5;28;43mself\u001b[39;49m\u001b[38;5;241;43m.\u001b[39;49m\u001b[43msize\u001b[49m\u001b[43m(\u001b[49m\u001b[38;5;241;43m-\u001b[39;49m\u001b[38;5;241;43m1\u001b[39;49m\u001b[43m)\u001b[49m \u001b[38;5;241m<\u001b[39m\u001b[38;5;241m=\u001b[39m settings\u001b[38;5;241m.\u001b[39mmax_cholesky_size\u001b[38;5;241m.\u001b[39mvalue()):\n\u001b[1;32m   1279\u001b[0m     \u001b[38;5;28;01mfrom\u001b[39;00m \u001b[38;5;21;01m.\u001b[39;00m\u001b[38;5;21;01mchol_lazy_tensor\u001b[39;00m \u001b[38;5;28;01mimport\u001b[39;00m CholLazyTensor\n\u001b[1;32m   1280\u001b[0m     \u001b[38;5;28;01mfrom\u001b[39;00m \u001b[38;5;21;01m.\u001b[39;00m\u001b[38;5;21;01mtriangular_lazy_tensor\u001b[39;00m \u001b[38;5;28;01mimport\u001b[39;00m TriangularLazyTensor\n",
      "File \u001b[0;32m~/.local/lib/python3.10/site-packages/gpytorch/lazy/lazy_tensor.py:1792\u001b[0m, in \u001b[0;36mLazyTensor.size\u001b[0;34m(self, val)\u001b[0m\n\u001b[1;32m   1788\u001b[0m \u001b[38;5;28;01mdef\u001b[39;00m \u001b[38;5;21msize\u001b[39m(\u001b[38;5;28mself\u001b[39m, val\u001b[38;5;241m=\u001b[39m\u001b[38;5;28;01mNone\u001b[39;00m):\n\u001b[1;32m   1789\u001b[0m     \u001b[38;5;124;03m\"\"\"\u001b[39;00m\n\u001b[1;32m   1790\u001b[0m \u001b[38;5;124;03m    Returns the size of the resulting Tensor that the lazy tensor represents\u001b[39;00m\n\u001b[1;32m   1791\u001b[0m \u001b[38;5;124;03m    \"\"\"\u001b[39;00m\n\u001b[0;32m-> 1792\u001b[0m     size \u001b[38;5;241m=\u001b[39m \u001b[38;5;28;43mself\u001b[39;49m\u001b[38;5;241;43m.\u001b[39;49m\u001b[43m_size\u001b[49m\u001b[43m(\u001b[49m\u001b[43m)\u001b[49m\n\u001b[1;32m   1793\u001b[0m     \u001b[38;5;28;01mif\u001b[39;00m val \u001b[38;5;129;01mis\u001b[39;00m \u001b[38;5;129;01mnot\u001b[39;00m \u001b[38;5;28;01mNone\u001b[39;00m:\n\u001b[1;32m   1794\u001b[0m         \u001b[38;5;28;01mreturn\u001b[39;00m size[val]\n",
      "File \u001b[0;32m~/.local/lib/python3.10/site-packages/gpytorch/lazy/sum_lazy_tensor.py:52\u001b[0m, in \u001b[0;36mSumLazyTensor._size\u001b[0;34m(self)\u001b[0m\n\u001b[1;32m     51\u001b[0m \u001b[38;5;28;01mdef\u001b[39;00m \u001b[38;5;21m_size\u001b[39m(\u001b[38;5;28mself\u001b[39m):\n\u001b[0;32m---> 52\u001b[0m     \u001b[38;5;28;01mreturn\u001b[39;00m _mul_broadcast_shape(\u001b[38;5;241m*\u001b[39m[lt\u001b[38;5;241m.\u001b[39mshape \u001b[38;5;28;01mfor\u001b[39;00m lt \u001b[38;5;129;01min\u001b[39;00m \u001b[38;5;28mself\u001b[39m\u001b[38;5;241m.\u001b[39mlazy_tensors])\n",
      "File \u001b[0;32m~/.local/lib/python3.10/site-packages/gpytorch/lazy/sum_lazy_tensor.py:52\u001b[0m, in \u001b[0;36m<listcomp>\u001b[0;34m(.0)\u001b[0m\n\u001b[1;32m     51\u001b[0m \u001b[38;5;28;01mdef\u001b[39;00m \u001b[38;5;21m_size\u001b[39m(\u001b[38;5;28mself\u001b[39m):\n\u001b[0;32m---> 52\u001b[0m     \u001b[38;5;28;01mreturn\u001b[39;00m _mul_broadcast_shape(\u001b[38;5;241m*\u001b[39m[\u001b[43mlt\u001b[49m\u001b[38;5;241;43m.\u001b[39;49m\u001b[43mshape\u001b[49m \u001b[38;5;28;01mfor\u001b[39;00m lt \u001b[38;5;129;01min\u001b[39;00m \u001b[38;5;28mself\u001b[39m\u001b[38;5;241m.\u001b[39mlazy_tensors])\n",
      "File \u001b[0;32m~/.local/lib/python3.10/site-packages/gpytorch/lazy/lazy_tensor.py:1808\u001b[0m, in \u001b[0;36mLazyTensor.shape\u001b[0;34m(self)\u001b[0m\n\u001b[1;32m   1806\u001b[0m \u001b[38;5;129m@property\u001b[39m\n\u001b[1;32m   1807\u001b[0m \u001b[38;5;28;01mdef\u001b[39;00m \u001b[38;5;21mshape\u001b[39m(\u001b[38;5;28mself\u001b[39m):\n\u001b[0;32m-> 1808\u001b[0m     \u001b[38;5;28;01mreturn\u001b[39;00m \u001b[38;5;28;43mself\u001b[39;49m\u001b[38;5;241;43m.\u001b[39;49m\u001b[43msize\u001b[49m\u001b[43m(\u001b[49m\u001b[43m)\u001b[49m\n",
      "File \u001b[0;32m~/.local/lib/python3.10/site-packages/gpytorch/lazy/lazy_tensor.py:1792\u001b[0m, in \u001b[0;36mLazyTensor.size\u001b[0;34m(self, val)\u001b[0m\n\u001b[1;32m   1788\u001b[0m \u001b[38;5;28;01mdef\u001b[39;00m \u001b[38;5;21msize\u001b[39m(\u001b[38;5;28mself\u001b[39m, val\u001b[38;5;241m=\u001b[39m\u001b[38;5;28;01mNone\u001b[39;00m):\n\u001b[1;32m   1789\u001b[0m     \u001b[38;5;124;03m\"\"\"\u001b[39;00m\n\u001b[1;32m   1790\u001b[0m \u001b[38;5;124;03m    Returns the size of the resulting Tensor that the lazy tensor represents\u001b[39;00m\n\u001b[1;32m   1791\u001b[0m \u001b[38;5;124;03m    \"\"\"\u001b[39;00m\n\u001b[0;32m-> 1792\u001b[0m     size \u001b[38;5;241m=\u001b[39m \u001b[38;5;28;43mself\u001b[39;49m\u001b[38;5;241;43m.\u001b[39;49m\u001b[43m_size\u001b[49m\u001b[43m(\u001b[49m\u001b[43m)\u001b[49m\n\u001b[1;32m   1793\u001b[0m     \u001b[38;5;28;01mif\u001b[39;00m val \u001b[38;5;129;01mis\u001b[39;00m \u001b[38;5;129;01mnot\u001b[39;00m \u001b[38;5;28;01mNone\u001b[39;00m:\n\u001b[1;32m   1794\u001b[0m         \u001b[38;5;28;01mreturn\u001b[39;00m size[val]\n",
      "File \u001b[0;32m~/.local/lib/python3.10/site-packages/gpytorch/lazy/diag_lazy_tensor.py:89\u001b[0m, in \u001b[0;36mDiagLazyTensor._size\u001b[0;34m(self)\u001b[0m\n\u001b[1;32m     88\u001b[0m \u001b[38;5;28;01mdef\u001b[39;00m \u001b[38;5;21m_size\u001b[39m(\u001b[38;5;28mself\u001b[39m):\n\u001b[0;32m---> 89\u001b[0m     \u001b[38;5;28;01mreturn\u001b[39;00m \u001b[38;5;28;43mself\u001b[39;49m\u001b[38;5;241;43m.\u001b[39;49m\u001b[43m_diag\u001b[49m\u001b[38;5;241m.\u001b[39mshape \u001b[38;5;241m+\u001b[39m \u001b[38;5;28mself\u001b[39m\u001b[38;5;241m.\u001b[39m_diag\u001b[38;5;241m.\u001b[39mshape[\u001b[38;5;241m-\u001b[39m\u001b[38;5;241m1\u001b[39m:]\n",
      "File \u001b[0;32m~/.local/lib/python3.10/site-packages/gpytorch/lazy/diag_lazy_tensor.py:239\u001b[0m, in \u001b[0;36mConstantDiagLazyTensor._diag\u001b[0;34m(self)\u001b[0m\n\u001b[1;32m    237\u001b[0m \u001b[38;5;129m@property\u001b[39m\n\u001b[1;32m    238\u001b[0m \u001b[38;5;28;01mdef\u001b[39;00m \u001b[38;5;21m_diag\u001b[39m(\u001b[38;5;28mself\u001b[39m):\n\u001b[0;32m--> 239\u001b[0m     \u001b[38;5;28;01mreturn\u001b[39;00m \u001b[38;5;28;43mself\u001b[39;49m\u001b[38;5;241;43m.\u001b[39;49m\u001b[43mdiag_values\u001b[49m\u001b[38;5;241;43m.\u001b[39;49m\u001b[43mexpand\u001b[49m\u001b[43m(\u001b[49m\u001b[38;5;241;43m*\u001b[39;49m\u001b[38;5;28;43mself\u001b[39;49m\u001b[38;5;241;43m.\u001b[39;49m\u001b[43mdiag_values\u001b[49m\u001b[38;5;241;43m.\u001b[39;49m\u001b[43mshape\u001b[49m\u001b[43m[\u001b[49m\u001b[43m:\u001b[49m\u001b[38;5;241;43m-\u001b[39;49m\u001b[38;5;241;43m1\u001b[39;49m\u001b[43m]\u001b[49m\u001b[43m,\u001b[49m\u001b[43m \u001b[49m\u001b[38;5;28;43mself\u001b[39;49m\u001b[38;5;241;43m.\u001b[39;49m\u001b[43mdiag_shape\u001b[49m\u001b[43m)\u001b[49m\n",
      "\u001b[0;31mKeyboardInterrupt\u001b[0m: "
     ]
    }
   ],
   "source": [
    "accum_loss = torch.tensor(0.0)\n",
    "accum_kl= torch.tensor(0.0)\n",
    "for epoch in range(1000 * LOGRATE):\n",
    "    with poutine.trace() as capture:\n",
    "        prog, logp, kern, newkern = a.path_guide(KERNS)\n",
    "    for _ in range(10 if newkern else 1):\n",
    "        tr = poutine.trace(a.gp_model).get_trace(prog, kern, x1, fancy_y)\n",
    "        loss = -tr.log_prob_sum() - a.prior_logprob(kern)\n",
    "        params = [n['value'].unconstrained()\n",
    "              for n in tr.nodes.values() if n['type'] == 'param']\n",
    "        loss.backward()\n",
    "        opt(params)\n",
    "        pyro.infer.util.zero_grads(params)\n",
    "    logq = capture.trace.log_prob_sum()\n",
    "    if epoch % LOGRATE == 0:\n",
    "        vis.line(X=torch.tensor([epoch / LOGRATE]),\n",
    "                 Y=accum_kl[None] / LOGRATE,\n",
    "            update='append', win=f\"{secs} kl\", opts={\n",
    "                'title': \"Elbo GFlow KL estimate\"})\n",
    "        vis.line(X=torch.tensor([epoch / LOGRATE]),\n",
    "                 Y=accum_loss[None] / LOGRATE,\n",
    "            update='append', win=f\"{secs} loss\", opts={\n",
    "                'title': \"Elbo GFlow Loss\"})\n",
    "        accum_loss.zero_()\n",
    "        accum_kl.zero_()\n",
    "        validation = torch.tensor(0.0)\n",
    "        with torch.no_grad():\n",
    "            for _ in range(10):\n",
    "                tr2 = poutine.trace(a.gp_model).get_trace(prog, kern, x2, fancy_y2)\n",
    "                validation += tr2.log_prob_sum()\n",
    "            validation_logp = validation / 10\n",
    "            vis.line(X=torch.tensor([epoch / LOGRATE]),\n",
    "                 Y=validation_logp[None],\n",
    "                update='append', win=f\"{secs} val\", opts={\n",
    "                    'title': \"Elbo GFlow Validation Logp\"})\n",
    "    kl_sample = (logq - logp + (loss / len(x1))).detach()\n",
    "    accum_kl += (logq - logp).detach()\n",
    "    accum_loss += loss.detach() / len(x1)\n",
    "    outer_loss = logq * kl_sample\n",
    "    outer_loss.backward()\n",
    "    outer_params = [n['value'].unconstrained()\n",
    "        for n in capture.trace.nodes.values() if n['type'] == 'param']\n",
    "    opt(outer_params)\n",
    "    pyro.infer.util.zero_grads(outer_params) "
   ]
  },
  {
   "cell_type": "markdown",
   "id": "a1a537b7",
   "metadata": {
    "heading_collapsed": true
   },
   "source": [
    "## Original GFlow Training"
   ]
  },
  {
   "cell_type": "code",
   "execution_count": 92,
   "id": "ca9bca83",
   "metadata": {
    "ExecuteTime": {
     "end_time": "2022-06-22T19:44:40.201425Z",
     "start_time": "2022-06-22T19:44:40.187053Z"
    },
    "hidden": true
   },
   "outputs": [],
   "source": [
    "pyro.clear_param_store()\n",
    "KERNS = {}\n",
    "opt = Adam({\"lr\": 1e-3, \"betas\": (0.90, 0.999)})"
   ]
  },
  {
   "cell_type": "code",
   "execution_count": 93,
   "id": "d40b51d5",
   "metadata": {
    "ExecuteTime": {
     "end_time": "2022-06-22T19:47:56.506622Z",
     "start_time": "2022-06-22T19:44:40.203476Z"
    },
    "hidden": true
   },
   "outputs": [
    {
     "ename": "KeyboardInterrupt",
     "evalue": "",
     "output_type": "error",
     "traceback": [
      "\u001b[0;31m---------------------------------------------------------------------------\u001b[0m",
      "\u001b[0;31mKeyboardInterrupt\u001b[0m                         Traceback (most recent call last)",
      "Input \u001b[0;32mIn [93]\u001b[0m, in \u001b[0;36m<cell line: 3>\u001b[0;34m()\u001b[0m\n\u001b[1;32m      8\u001b[0m loss \u001b[38;5;241m=\u001b[39m \u001b[38;5;241m-\u001b[39mtr\u001b[38;5;241m.\u001b[39mlog_prob_sum()\n\u001b[1;32m      9\u001b[0m params \u001b[38;5;241m=\u001b[39m [n[\u001b[38;5;124m'\u001b[39m\u001b[38;5;124mvalue\u001b[39m\u001b[38;5;124m'\u001b[39m]\u001b[38;5;241m.\u001b[39munconstrained()\n\u001b[1;32m     10\u001b[0m       \u001b[38;5;28;01mfor\u001b[39;00m n \u001b[38;5;129;01min\u001b[39;00m tr\u001b[38;5;241m.\u001b[39mnodes\u001b[38;5;241m.\u001b[39mvalues() \u001b[38;5;28;01mif\u001b[39;00m n[\u001b[38;5;124m'\u001b[39m\u001b[38;5;124mtype\u001b[39m\u001b[38;5;124m'\u001b[39m] \u001b[38;5;241m==\u001b[39m \u001b[38;5;124m'\u001b[39m\u001b[38;5;124mparam\u001b[39m\u001b[38;5;124m'\u001b[39m]\n\u001b[0;32m---> 11\u001b[0m \u001b[43mloss\u001b[49m\u001b[38;5;241;43m.\u001b[39;49m\u001b[43mbackward\u001b[49m\u001b[43m(\u001b[49m\u001b[43m)\u001b[49m\n\u001b[1;32m     12\u001b[0m opt(params)\n\u001b[1;32m     13\u001b[0m pyro\u001b[38;5;241m.\u001b[39minfer\u001b[38;5;241m.\u001b[39mutil\u001b[38;5;241m.\u001b[39mzero_grads(params)\n",
      "File \u001b[0;32m/usr/lib/python3.10/site-packages/torch/_tensor.py:363\u001b[0m, in \u001b[0;36mTensor.backward\u001b[0;34m(self, gradient, retain_graph, create_graph, inputs)\u001b[0m\n\u001b[1;32m    354\u001b[0m \u001b[38;5;28;01mif\u001b[39;00m has_torch_function_unary(\u001b[38;5;28mself\u001b[39m):\n\u001b[1;32m    355\u001b[0m     \u001b[38;5;28;01mreturn\u001b[39;00m handle_torch_function(\n\u001b[1;32m    356\u001b[0m         Tensor\u001b[38;5;241m.\u001b[39mbackward,\n\u001b[1;32m    357\u001b[0m         (\u001b[38;5;28mself\u001b[39m,),\n\u001b[0;32m   (...)\u001b[0m\n\u001b[1;32m    361\u001b[0m         create_graph\u001b[38;5;241m=\u001b[39mcreate_graph,\n\u001b[1;32m    362\u001b[0m         inputs\u001b[38;5;241m=\u001b[39minputs)\n\u001b[0;32m--> 363\u001b[0m \u001b[43mtorch\u001b[49m\u001b[38;5;241;43m.\u001b[39;49m\u001b[43mautograd\u001b[49m\u001b[38;5;241;43m.\u001b[39;49m\u001b[43mbackward\u001b[49m\u001b[43m(\u001b[49m\u001b[38;5;28;43mself\u001b[39;49m\u001b[43m,\u001b[49m\u001b[43m \u001b[49m\u001b[43mgradient\u001b[49m\u001b[43m,\u001b[49m\u001b[43m \u001b[49m\u001b[43mretain_graph\u001b[49m\u001b[43m,\u001b[49m\u001b[43m \u001b[49m\u001b[43mcreate_graph\u001b[49m\u001b[43m,\u001b[49m\u001b[43m \u001b[49m\u001b[43minputs\u001b[49m\u001b[38;5;241;43m=\u001b[39;49m\u001b[43minputs\u001b[49m\u001b[43m)\u001b[49m\n",
      "File \u001b[0;32m/usr/lib/python3.10/site-packages/torch/autograd/__init__.py:173\u001b[0m, in \u001b[0;36mbackward\u001b[0;34m(tensors, grad_tensors, retain_graph, create_graph, grad_variables, inputs)\u001b[0m\n\u001b[1;32m    168\u001b[0m     retain_graph \u001b[38;5;241m=\u001b[39m create_graph\n\u001b[1;32m    170\u001b[0m \u001b[38;5;66;03m# The reason we repeat same the comment below is that\u001b[39;00m\n\u001b[1;32m    171\u001b[0m \u001b[38;5;66;03m# some Python versions print out the first line of a multi-line function\u001b[39;00m\n\u001b[1;32m    172\u001b[0m \u001b[38;5;66;03m# calls in the traceback and some print out the last line\u001b[39;00m\n\u001b[0;32m--> 173\u001b[0m \u001b[43mVariable\u001b[49m\u001b[38;5;241;43m.\u001b[39;49m\u001b[43m_execution_engine\u001b[49m\u001b[38;5;241;43m.\u001b[39;49m\u001b[43mrun_backward\u001b[49m\u001b[43m(\u001b[49m\u001b[43m  \u001b[49m\u001b[38;5;66;43;03m# Calls into the C++ engine to run the backward pass\u001b[39;49;00m\n\u001b[1;32m    174\u001b[0m \u001b[43m    \u001b[49m\u001b[43mtensors\u001b[49m\u001b[43m,\u001b[49m\u001b[43m \u001b[49m\u001b[43mgrad_tensors_\u001b[49m\u001b[43m,\u001b[49m\u001b[43m \u001b[49m\u001b[43mretain_graph\u001b[49m\u001b[43m,\u001b[49m\u001b[43m \u001b[49m\u001b[43mcreate_graph\u001b[49m\u001b[43m,\u001b[49m\u001b[43m \u001b[49m\u001b[43minputs\u001b[49m\u001b[43m,\u001b[49m\n\u001b[1;32m    175\u001b[0m \u001b[43m    \u001b[49m\u001b[43mallow_unreachable\u001b[49m\u001b[38;5;241;43m=\u001b[39;49m\u001b[38;5;28;43;01mTrue\u001b[39;49;00m\u001b[43m,\u001b[49m\u001b[43m \u001b[49m\u001b[43maccumulate_grad\u001b[49m\u001b[38;5;241;43m=\u001b[39;49m\u001b[38;5;28;43;01mTrue\u001b[39;49;00m\u001b[43m)\u001b[49m\n",
      "File \u001b[0;32m/usr/lib/python3.10/site-packages/torch/autograd/function.py:243\u001b[0m, in \u001b[0;36mBackwardCFunction.apply\u001b[0;34m(self, *args)\u001b[0m\n\u001b[1;32m    242\u001b[0m \u001b[38;5;28;01mclass\u001b[39;00m \u001b[38;5;21;01mBackwardCFunction\u001b[39;00m(_C\u001b[38;5;241m.\u001b[39m_FunctionBase, FunctionCtx, _HookMixin):\n\u001b[0;32m--> 243\u001b[0m     \u001b[38;5;28;01mdef\u001b[39;00m \u001b[38;5;21mapply\u001b[39m(\u001b[38;5;28mself\u001b[39m, \u001b[38;5;241m*\u001b[39margs):\n\u001b[1;32m    244\u001b[0m         \u001b[38;5;66;03m# _forward_cls is defined by derived class\u001b[39;00m\n\u001b[1;32m    245\u001b[0m         \u001b[38;5;66;03m# The user should define either backward or vjp but never both.\u001b[39;00m\n\u001b[1;32m    246\u001b[0m         backward_fn \u001b[38;5;241m=\u001b[39m \u001b[38;5;28mself\u001b[39m\u001b[38;5;241m.\u001b[39m_forward_cls\u001b[38;5;241m.\u001b[39mbackward  \u001b[38;5;66;03m# type: ignore[attr-defined]\u001b[39;00m\n\u001b[1;32m    247\u001b[0m         vjp_fn \u001b[38;5;241m=\u001b[39m \u001b[38;5;28mself\u001b[39m\u001b[38;5;241m.\u001b[39m_forward_cls\u001b[38;5;241m.\u001b[39mvjp  \u001b[38;5;66;03m# type: ignore[attr-defined]\u001b[39;00m\n",
      "\u001b[0;31mKeyboardInterrupt\u001b[0m: "
     ]
    }
   ],
   "source": [
    "accum_loss = torch.tensor(0.0)\n",
    "logz = torch.tensor(0.0, requires_grad=True)\n",
    "for epoch in range(300000):\n",
    "    with poutine.trace() as capture:\n",
    "        prog, logp, kern, newkern = a.path_guide(KERNS)\n",
    "    for _ in range(10 if newkern else 1):\n",
    "        tr = poutine.trace(a.gp_model).get_trace(prog, kern, x1, fancy_y)\n",
    "        loss = -tr.log_prob_sum()\n",
    "        params = [n['value'].unconstrained()\n",
    "              for n in tr.nodes.values() if n['type'] == 'param']\n",
    "        loss.backward()\n",
    "        opt(params)\n",
    "        pyro.infer.util.zero_grads(params)\n",
    "    logq = capture.trace.log_prob_sum()\n",
    "    if epoch % LOGRATE == 0:\n",
    "        vis.line(X=torch.tensor([epoch / LOGRATE]),\n",
    "                 Y=accum_loss[None] / LOGRATE,\n",
    "            update='append', win='loss2', opts={\n",
    "                'title': \"Loss2\"})\n",
    "        accum_loss.zero_()\n",
    "        validation = torch.tensor(0.0)\n",
    "        with torch.no_grad():\n",
    "            for _ in range(10):\n",
    "                tr2 = poutine.trace(a.gp_model).get_trace(prog, kern, x2, fancy_y2)\n",
    "                validation += tr2.log_prob_sum()\n",
    "            validation_logp = validation / 10\n",
    "            vis.line(X=torch.tensor([epoch / LOGRATE]),\n",
    "                 Y=validation_logp[None],\n",
    "                update='append', win='og_validation', opts={\n",
    "                    'title': \"OG GFlow Validation Logp\"})\n",
    "    outer_loss = torch.square(logq - logp + logz)\n",
    "    accum_loss += outer_loss.detach()\n",
    "    outer_loss.backward()\n",
    "    outer_params = [n['value'].unconstrained()\n",
    "        for n in capture.trace.nodes.values() if n['type'] == 'param']\n",
    "    outer_params.append(logz)\n",
    "    opt(outer_params)\n",
    "    pyro.infer.util.zero_grads(outer_params) "
   ]
  },
  {
   "cell_type": "markdown",
   "id": "dba94630",
   "metadata": {
    "heading_collapsed": true
   },
   "source": [
    "## REINFORCE Training"
   ]
  },
  {
   "cell_type": "code",
   "execution_count": 86,
   "id": "ede693da",
   "metadata": {
    "ExecuteTime": {
     "end_time": "2022-06-22T19:25:54.022312Z",
     "start_time": "2022-06-22T19:25:54.006831Z"
    },
    "hidden": true
   },
   "outputs": [],
   "source": [
    "pyro.clear_param_store()\n",
    "KERNS = {}\n",
    "opt = Adam({\"lr\": 1e-3, \"betas\": (0.90, 0.999)})"
   ]
  },
  {
   "cell_type": "code",
   "execution_count": 87,
   "id": "2d4f2dba",
   "metadata": {
    "ExecuteTime": {
     "end_time": "2022-06-22T19:30:53.274789Z",
     "start_time": "2022-06-22T19:25:54.025163Z"
    },
    "hidden": true
   },
   "outputs": [
    {
     "ename": "KeyboardInterrupt",
     "evalue": "",
     "output_type": "error",
     "traceback": [
      "\u001b[0;31m---------------------------------------------------------------------------\u001b[0m",
      "\u001b[0;31mKeyboardInterrupt\u001b[0m                         Traceback (most recent call last)",
      "Input \u001b[0;32mIn [87]\u001b[0m, in \u001b[0;36m<cell line: 2>\u001b[0;34m()\u001b[0m\n\u001b[1;32m     22\u001b[0m \u001b[38;5;28;01mfor\u001b[39;00m _ \u001b[38;5;129;01min\u001b[39;00m \u001b[38;5;28mrange\u001b[39m(\u001b[38;5;241m10\u001b[39m):\n\u001b[1;32m     23\u001b[0m     tr2 \u001b[38;5;241m=\u001b[39m poutine\u001b[38;5;241m.\u001b[39mtrace(a\u001b[38;5;241m.\u001b[39mgp_model)\u001b[38;5;241m.\u001b[39mget_trace(prog, kern, x2, fancy_y2)\n\u001b[0;32m---> 24\u001b[0m     validation \u001b[38;5;241m+\u001b[39m\u001b[38;5;241m=\u001b[39m \u001b[43mtr2\u001b[49m\u001b[38;5;241;43m.\u001b[39;49m\u001b[43mlog_prob_sum\u001b[49m\u001b[43m(\u001b[49m\u001b[43m)\u001b[49m\n\u001b[1;32m     25\u001b[0m validation_logp \u001b[38;5;241m=\u001b[39m validation \u001b[38;5;241m/\u001b[39m \u001b[38;5;241m10\u001b[39m\n\u001b[1;32m     26\u001b[0m vis\u001b[38;5;241m.\u001b[39mline(X\u001b[38;5;241m=\u001b[39mtorch\u001b[38;5;241m.\u001b[39mtensor([epoch \u001b[38;5;241m/\u001b[39m LOGRATE]),\n\u001b[1;32m     27\u001b[0m      Y\u001b[38;5;241m=\u001b[39mvalidation_logp[\u001b[38;5;28;01mNone\u001b[39;00m],\n\u001b[1;32m     28\u001b[0m     update\u001b[38;5;241m=\u001b[39m\u001b[38;5;124m'\u001b[39m\u001b[38;5;124mappend\u001b[39m\u001b[38;5;124m'\u001b[39m, win\u001b[38;5;241m=\u001b[39m\u001b[38;5;124m'\u001b[39m\u001b[38;5;124mrf_validation\u001b[39m\u001b[38;5;124m'\u001b[39m, opts\u001b[38;5;241m=\u001b[39m{\n\u001b[1;32m     29\u001b[0m         \u001b[38;5;124m'\u001b[39m\u001b[38;5;124mtitle\u001b[39m\u001b[38;5;124m'\u001b[39m: \u001b[38;5;124m\"\u001b[39m\u001b[38;5;124mREINFORCE GFlow Validation Logp\u001b[39m\u001b[38;5;124m\"\u001b[39m})\n",
      "File \u001b[0;32m~/.local/lib/python3.10/site-packages/pyro/poutine/trace_struct.py:179\u001b[0m, in \u001b[0;36mTrace.log_prob_sum\u001b[0;34m(self, site_filter)\u001b[0m\n\u001b[1;32m    176\u001b[0m             top_sorted\u001b[38;5;241m.\u001b[39mappend(node)\n\u001b[1;32m    177\u001b[0m     \u001b[38;5;28;01mreturn\u001b[39;00m top_sorted \u001b[38;5;28;01mif\u001b[39;00m reverse \u001b[38;5;28;01melse\u001b[39;00m \u001b[38;5;28mlist\u001b[39m(\u001b[38;5;28mreversed\u001b[39m(top_sorted))\n\u001b[0;32m--> 179\u001b[0m \u001b[38;5;28;01mdef\u001b[39;00m \u001b[38;5;21mlog_prob_sum\u001b[39m(\u001b[38;5;28mself\u001b[39m, site_filter\u001b[38;5;241m=\u001b[39m\u001b[38;5;28;01mlambda\u001b[39;00m name, site: \u001b[38;5;28;01mTrue\u001b[39;00m):\n\u001b[1;32m    180\u001b[0m     \u001b[38;5;124;03m\"\"\"\u001b[39;00m\n\u001b[1;32m    181\u001b[0m \u001b[38;5;124;03m    Compute the site-wise log probabilities of the trace.\u001b[39;00m\n\u001b[1;32m    182\u001b[0m \u001b[38;5;124;03m    Each ``log_prob`` has shape equal to the corresponding ``batch_shape``.\u001b[39;00m\n\u001b[0;32m   (...)\u001b[0m\n\u001b[1;32m    187\u001b[0m \u001b[38;5;124;03m    :rtype: torch.Tensor\u001b[39;00m\n\u001b[1;32m    188\u001b[0m \u001b[38;5;124;03m    \"\"\"\u001b[39;00m\n\u001b[1;32m    189\u001b[0m     result \u001b[38;5;241m=\u001b[39m \u001b[38;5;241m0.0\u001b[39m\n",
      "\u001b[0;31mKeyboardInterrupt\u001b[0m: "
     ]
    }
   ],
   "source": [
    "accum_loss = torch.tensor(0.0)\n",
    "for epoch in range(300000):\n",
    "    with poutine.trace() as capture:\n",
    "        prog, logp, kern, newkern = a.path_guide(KERNS)\n",
    "    for _ in range(10 if newkern else 1):\n",
    "        tr = poutine.trace(a.gp_model).get_trace(prog, kern, x1, fancy_y)\n",
    "        loss = -tr.log_prob_sum()\n",
    "        params = [n['value'].unconstrained()\n",
    "              for n in tr.nodes.values() if n['type'] == 'param']\n",
    "        loss.backward()\n",
    "        opt(params)\n",
    "        pyro.infer.util.zero_grads(params)\n",
    "    logq = capture.trace.log_prob_sum()\n",
    "    if epoch % LOGRATE == 0:\n",
    "        vis.line(X=torch.tensor([epoch / LOGRATE]),\n",
    "                 Y=accum_loss[None] / LOGRATE,\n",
    "            update='append', win='rf_loss', opts={\n",
    "                'title': \"REINFORCE Loss\"})\n",
    "        accum_loss.zero_()\n",
    "        validation = torch.tensor(0.0)\n",
    "        with torch.no_grad():\n",
    "            for _ in range(10):\n",
    "                tr2 = poutine.trace(a.gp_model).get_trace(prog, kern, x2, fancy_y2)\n",
    "                validation += tr2.log_prob_sum()\n",
    "            validation_logp = validation / 10\n",
    "            vis.line(X=torch.tensor([epoch / LOGRATE]),\n",
    "                 Y=validation_logp[None],\n",
    "                update='append', win='rf_validation', opts={\n",
    "                    'title': \"REINFORCE GFlow Validation Logp\"})\n",
    "    outer_loss = loss.detach() * logq\n",
    "    outer_loss.backward()\n",
    "    accum_loss += loss.detach()\n",
    "    outer_params = [n['value'].unconstrained()\n",
    "        for n in capture.trace.nodes.values() if n['type'] == 'param']\n",
    "    opt(outer_params)\n",
    "    pyro.infer.util.zero_grads(outer_params) "
   ]
  },
  {
   "cell_type": "markdown",
   "id": "67a4f6d9",
   "metadata": {},
   "source": [
    "## Multimodality"
   ]
  },
  {
   "cell_type": "code",
   "execution_count": 161,
   "id": "b2fd80e5",
   "metadata": {
    "ExecuteTime": {
     "end_time": "2022-06-22T21:04:37.332667Z",
     "start_time": "2022-06-22T21:04:37.313551Z"
    }
   },
   "outputs": [],
   "source": [
    "def full_model():\n",
    "    prog, logp, kern, newkern = a.path_guide(KERNS)\n",
    "    return prog"
   ]
  },
  {
   "cell_type": "code",
   "execution_count": 162,
   "id": "773ca764",
   "metadata": {
    "ExecuteTime": {
     "end_time": "2022-06-22T21:04:37.369452Z",
     "start_time": "2022-06-22T21:04:37.334720Z"
    }
   },
   "outputs": [
    {
     "data": {
      "text/plain": [
       "[Prog(builder=pset(), adds=pset([pset([<Action.Periodic: 3>]), pset([<Action.Periodic: 3>, <Action.RBF: 4>])]), done=True),\n",
       " Prog(builder=pset(), adds=pset([pset([<Action.Periodic: 3>, <Action.RBF: 4>]), pset([<Action.Linear: 5>])]), done=True)]"
      ]
     },
     "execution_count": 162,
     "metadata": {},
     "output_type": "execute_result"
    }
   ],
   "source": [
    "a.all_in_quantile(full_model, 0.5)"
   ]
  },
  {
   "cell_type": "code",
   "execution_count": 163,
   "id": "f62129dd",
   "metadata": {
    "ExecuteTime": {
     "end_time": "2022-06-22T21:04:51.400195Z",
     "start_time": "2022-06-22T21:04:51.380115Z"
    }
   },
   "outputs": [
    {
     "data": {
      "text/plain": [
       "Prog(builder=pset(), adds=pset([pset([<Action.Periodic: 3>, <Action.RBF: 4>]), pset([<Action.Linear: 5>])]), done=True)"
      ]
     },
     "execution_count": 163,
     "metadata": {},
     "output_type": "execute_result"
    }
   ],
   "source": [
    "with a.MAPMessenger():\n",
    "    result = full_model()\n",
    "result "
   ]
  }
 ],
 "metadata": {
  "@webio": {
   "lastCommId": null,
   "lastKernelId": null
  },
  "kernelspec": {
   "display_name": "Python 3 (ipykernel)",
   "language": "python",
   "name": "python3"
  },
  "language_info": {
   "codemirror_mode": {
    "name": "ipython",
    "version": 3
   },
   "file_extension": ".py",
   "mimetype": "text/x-python",
   "name": "python",
   "nbconvert_exporter": "python",
   "pygments_lexer": "ipython3",
   "version": "3.10.5"
  }
 },
 "nbformat": 4,
 "nbformat_minor": 5
}

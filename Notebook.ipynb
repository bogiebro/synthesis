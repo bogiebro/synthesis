{
 "cells": [
  {
   "cell_type": "markdown",
   "id": "54692755",
   "metadata": {},
   "source": [
    "## Imports"
   ]
  },
  {
   "cell_type": "code",
   "execution_count": 1,
   "id": "df5a6fdf",
   "metadata": {
    "ExecuteTime": {
     "end_time": "2022-06-22T22:50:59.502338Z",
     "start_time": "2022-06-22T22:50:58.648723Z"
    }
   },
   "outputs": [],
   "source": [
    "%autoreload\n",
    "from collections import defaultdict\n",
    "import itertools\n",
    "import torch\n",
    "import pyro\n",
    "import pyro.distributions as dist\n",
    "from pyro.infer import Predictive, SVI, Trace_ELBO, TraceGraph_ELBO, config_enumerate\n",
    "from pyro import poutine\n",
    "from pyro.optim import Adam\n",
    "import gpytorch as gp\n",
    "from gpytorch.kernels import RBFKernel, PeriodicKernel, ScaleKernel, ProductKernel, LinearKernel, AdditiveKernel\n",
    "import visdom\n",
    "import pdb\n",
    "from pmextract import extract\n",
    "import matplotlib.pyplot as plt\n",
    "import autostat as a\n",
    "from pyrsistent import pset, s\n",
    "import functools\n",
    "from queue import Queue\n",
    "import time"
   ]
  },
  {
   "cell_type": "code",
   "execution_count": 2,
   "id": "fc86a927",
   "metadata": {
    "ExecuteTime": {
     "end_time": "2022-06-22T22:50:59.515201Z",
     "start_time": "2022-06-22T22:50:59.504228Z"
    }
   },
   "outputs": [],
   "source": [
    "LOGRATE = 20"
   ]
  },
  {
   "cell_type": "code",
   "execution_count": 3,
   "id": "d3f775ad",
   "metadata": {
    "ExecuteTime": {
     "end_time": "2022-06-22T22:50:59.631440Z",
     "start_time": "2022-06-22T22:50:59.516466Z"
    }
   },
   "outputs": [
    {
     "name": "stderr",
     "output_type": "stream",
     "text": [
      "Setting up a new session...\n"
     ]
    }
   ],
   "source": [
    "vis = visdom.Visdom(env='nb')"
   ]
  },
  {
   "cell_type": "markdown",
   "id": "f7a475ab",
   "metadata": {
    "heading_collapsed": true
   },
   "source": [
    "## Fake Data"
   ]
  },
  {
   "cell_type": "code",
   "execution_count": 4,
   "id": "cbb54c69",
   "metadata": {
    "ExecuteTime": {
     "end_time": "2022-06-22T22:51:08.026780Z",
     "start_time": "2022-06-22T22:51:08.013026Z"
    },
    "hidden": true
   },
   "outputs": [],
   "source": [
    "p = a.Prog(s(), s(s(a.Action.Linear), s(a.Action.Periodic, a.Action.RBF)), True)"
   ]
  },
  {
   "cell_type": "code",
   "execution_count": 5,
   "id": "c528251b",
   "metadata": {
    "ExecuteTime": {
     "end_time": "2022-06-22T22:51:08.041944Z",
     "start_time": "2022-06-22T22:51:08.028500Z"
    },
    "hidden": true
   },
   "outputs": [],
   "source": [
    "k = a.to_kernel(p)"
   ]
  },
  {
   "cell_type": "code",
   "execution_count": 6,
   "id": "a2f3235e",
   "metadata": {
    "ExecuteTime": {
     "end_time": "2022-06-22T22:51:08.054127Z",
     "start_time": "2022-06-22T22:51:08.043248Z"
    },
    "hidden": true
   },
   "outputs": [],
   "source": [
    "x = (torch.arange(100) / 30)"
   ]
  },
  {
   "cell_type": "code",
   "execution_count": 7,
   "id": "b3081e25",
   "metadata": {
    "ExecuteTime": {
     "end_time": "2022-06-22T22:51:08.066783Z",
     "start_time": "2022-06-22T22:51:08.056255Z"
    },
    "hidden": true
   },
   "outputs": [],
   "source": [
    "x1 = x[:50, None]"
   ]
  },
  {
   "cell_type": "code",
   "execution_count": 8,
   "id": "ad8f6182",
   "metadata": {
    "ExecuteTime": {
     "end_time": "2022-06-22T22:51:08.079114Z",
     "start_time": "2022-06-22T22:51:08.068003Z"
    },
    "hidden": true
   },
   "outputs": [],
   "source": [
    "x2 = x[50:, None]"
   ]
  },
  {
   "cell_type": "code",
   "execution_count": 9,
   "id": "d21e325f",
   "metadata": {
    "ExecuteTime": {
     "end_time": "2022-06-22T22:51:08.097576Z",
     "start_time": "2022-06-22T22:51:08.080365Z"
    },
    "hidden": true
   },
   "outputs": [
    {
     "name": "stderr",
     "output_type": "stream",
     "text": [
      "/home/sam/.local/lib/python3.10/site-packages/gpytorch/utils/cholesky.py:38: NumericalWarning: A not p.d., added jitter of 1.0e-06 to the diagonal\n",
      "  warnings.warn(\n",
      "/home/sam/.local/lib/python3.10/site-packages/gpytorch/lazy/lazy_tensor.py:1741: UserWarning: torch.triangular_solve is deprecated in favor of torch.linalg.solve_triangularand will be removed in a future PyTorch release.\n",
      "torch.linalg.solve_triangular has its arguments reversed and does not return a copy of one of the inputs.\n",
      "X = torch.triangular_solve(B, A).solution\n",
      "should be replaced with\n",
      "X = torch.linalg.solve_triangular(A, B). (Triggered internally at  /build/python-pytorch/src/pytorch-1.11.0/aten/src/ATen/native/BatchLinearAlgebra.cpp:1666.)\n",
      "  Linv = torch.triangular_solve(Eye, L, upper=False).solution\n"
     ]
    }
   ],
   "source": [
    "fancy_y = a.gp_model(None, k, x1, None).detach()"
   ]
  },
  {
   "cell_type": "code",
   "execution_count": 10,
   "id": "68001655",
   "metadata": {
    "ExecuteTime": {
     "end_time": "2022-06-22T22:51:08.115318Z",
     "start_time": "2022-06-22T22:51:08.099248Z"
    },
    "hidden": true
   },
   "outputs": [],
   "source": [
    "with torch.no_grad():\n",
    "    fancy_y2 = k(x2, x1) @ k(x1).add_diag(torch.tensor(0.001)).inv_matmul(fancy_y)"
   ]
  },
  {
   "cell_type": "code",
   "execution_count": 11,
   "id": "b0e45e77",
   "metadata": {
    "ExecuteTime": {
     "end_time": "2022-06-22T22:51:08.201755Z",
     "start_time": "2022-06-22T22:51:08.116895Z"
    },
    "hidden": true,
    "scrolled": true
   },
   "outputs": [
    {
     "data": {
      "text/plain": [
       "[<matplotlib.lines.Line2D at 0x7fbe1807cd90>]"
      ]
     },
     "execution_count": 11,
     "metadata": {},
     "output_type": "execute_result"
    },
    {
     "data": {
      "image/png": "[encoded data removed]",
      "text/plain": [
       "<Figure size 432x288 with 1 Axes>"
      ]
     },
     "metadata": {
      "needs_background": "light"
     },
     "output_type": "display_data"
    }
   ],
   "source": [
    "plt.plot(x, torch.cat((fancy_y, fancy_y2)))"
   ]
  },
  {
   "cell_type": "markdown",
   "id": "5ad5d25c",
   "metadata": {
    "heading_collapsed": true
   },
   "source": [
    "## Greedy Training"
   ]
  },
  {
   "cell_type": "code",
   "execution_count": 36,
   "id": "0561631c",
   "metadata": {
    "ExecuteTime": {
     "end_time": "2022-06-22T21:35:19.677499Z",
     "start_time": "2022-06-22T21:35:19.651749Z"
    },
    "hidden": true
   },
   "outputs": [],
   "source": [
    "pyro.clear_param_store()\n",
    "KERNS = {}\n",
    "opt = Adam({\"lr\": 1e-3, \"betas\": (0.90, 0.999)})"
   ]
  },
  {
   "cell_type": "code",
   "execution_count": 37,
   "id": "48fba479",
   "metadata": {
    "ExecuteTime": {
     "end_time": "2022-06-22T21:35:27.123027Z",
     "start_time": "2022-06-22T21:35:19.682107Z"
    },
    "hidden": true
   },
   "outputs": [
    {
     "name": "stdout",
     "output_type": "stream",
     "text": [
      "Best on previous level Prog(builder=pset(), adds=pset([pset([<Action.Periodic: 3>, <Action.RBF: 4>])]), done=True)\n",
      "Best on previous level Prog(builder=pset(), adds=pset([pset([<Action.Periodic: 3>, <Action.RBF: 4>]), pset([<Action.Linear: 5>])]), done=True)\n"
     ]
    }
   ],
   "source": [
    "best_logprob = -torch.inf\n",
    "best_prog = None\n",
    "level_trace = poutine.Trace()\n",
    "epoch = 0\n",
    "for d in range(1, 5):\n",
    "    def wrapped():\n",
    "        try:\n",
    "            with a.RejectionMessenger(functools.partial(a.deep_escape, d)):\n",
    "                return a.path_guide(KERNS)\n",
    "        except a.RejectException as site:\n",
    "            site.reset_stack()\n",
    "            return None\n",
    "    q = Queue()\n",
    "    q.put(level_trace)\n",
    "    queued = poutine.queue(wrapped, queue=q)\n",
    "    traces = {}\n",
    "    probs = defaultdict(lambda: torch.tensor(0.0))\n",
    "    likelihoods = {}\n",
    "    while not q.empty():\n",
    "        with poutine.trace() as capture:\n",
    "            res = queued()\n",
    "        if res is not None:\n",
    "            prog, logp, kern, newkern = res\n",
    "            probs[prog] += torch.exp(logp.detach())\n",
    "            if newkern:\n",
    "                loss = torch.tensor(0.0)\n",
    "                for _ in range(100):\n",
    "                    tr = poutine.trace(a.gp_model).get_trace(\n",
    "                        prog, kern, x1, fancy_y)\n",
    "                    loss = -tr.log_prob_sum() - a.prior_logprob(kern)\n",
    "                    params = [n['value'].unconstrained()\n",
    "                        for n in tr.nodes.values() if n['type'] == 'param']\n",
    "                    loss.backward()\n",
    "                    opt(params)\n",
    "                    pyro.infer.util.zero_grads(params)\n",
    "                trace = capture.trace\n",
    "                final_sample = [v['name'] for v in trace.nodes.values()\n",
    "                    if type(v['name']) is a.Prog][-1]\n",
    "                trace.remove_node(final_sample)\n",
    "                traces[prog] = trace\n",
    "                likelihoods[prog] = -loss.detach()\n",
    "    level_prog = None\n",
    "    level_logprob = -torch.inf\n",
    "    for key,v in likelihoods.items():\n",
    "        logp = v + probs[key]\n",
    "        if logp >= level_logprob:\n",
    "            level_logprob = logp\n",
    "            level_prog = key\n",
    "    level_trace = traces[level_prog]\n",
    "    print(\"Best on previous level\", level_prog)\n",
    "    if level_logprob > best_logprob:\n",
    "        best_logprob = level_logprob\n",
    "        best_prog = level_prog\n",
    "    else:\n",
    "        break"
   ]
  },
  {
   "cell_type": "code",
   "execution_count": 38,
   "id": "ae6486b6",
   "metadata": {
    "ExecuteTime": {
     "end_time": "2022-06-22T21:35:29.537753Z",
     "start_time": "2022-06-22T21:35:29.506430Z"
    },
    "hidden": true
   },
   "outputs": [
    {
     "data": {
      "text/plain": [
       "Prog(builder=pset(), adds=pset([pset([<Action.Periodic: 3>, <Action.RBF: 4>]), pset([<Action.Linear: 5>])]), done=True)"
      ]
     },
     "execution_count": 38,
     "metadata": {},
     "output_type": "execute_result"
    }
   ],
   "source": [
    "p"
   ]
  },
  {
   "cell_type": "code",
   "execution_count": 40,
   "id": "4c4f54f2",
   "metadata": {
    "ExecuteTime": {
     "end_time": "2022-06-22T21:35:33.762182Z",
     "start_time": "2022-06-22T21:35:33.716575Z"
    },
    "hidden": true
   },
   "outputs": [
    {
     "data": {
      "text/plain": [
       "tensor(27.2337, grad_fn=<AddBackward0>)"
      ]
     },
     "execution_count": 40,
     "metadata": {},
     "output_type": "execute_result"
    }
   ],
   "source": [
    "poutine.trace(a.gp_model).get_trace(p, k, x1, fancy_y).log_prob_sum()"
   ]
  },
  {
   "cell_type": "code",
   "execution_count": 41,
   "id": "308b3ae1",
   "metadata": {
    "ExecuteTime": {
     "end_time": "2022-06-22T21:35:39.660160Z",
     "start_time": "2022-06-22T21:35:39.621443Z"
    },
    "hidden": true
   },
   "outputs": [
    {
     "data": {
      "text/plain": [
       "tensor(26.8101, grad_fn=<AddBackward0>)"
      ]
     },
     "execution_count": 41,
     "metadata": {},
     "output_type": "execute_result"
    }
   ],
   "source": [
    "poutine.trace(a.gp_model).get_trace(best_prog, KERNS[best_prog], x1, fancy_y).log_prob_sum()"
   ]
  },
  {
   "cell_type": "code",
   "execution_count": 42,
   "id": "a40c3804",
   "metadata": {
    "ExecuteTime": {
     "end_time": "2022-06-22T21:35:39.709327Z",
     "start_time": "2022-06-22T21:35:39.666330Z"
    },
    "hidden": true
   },
   "outputs": [
    {
     "data": {
      "text/plain": [
       "tensor(40.0474, grad_fn=<AddBackward0>)"
      ]
     },
     "execution_count": 42,
     "metadata": {},
     "output_type": "execute_result"
    }
   ],
   "source": [
    "poutine.trace(a.gp_model).get_trace(best_prog, KERNS[best_prog], x2, fancy_y2).log_prob_sum()"
   ]
  },
  {
   "cell_type": "code",
   "execution_count": 43,
   "id": "d3f661ac",
   "metadata": {
    "ExecuteTime": {
     "end_time": "2022-06-22T21:35:39.762629Z",
     "start_time": "2022-06-22T21:35:39.712719Z"
    },
    "hidden": true
   },
   "outputs": [
    {
     "data": {
      "text/plain": [
       "tensor(49.2310, grad_fn=<AddBackward0>)"
      ]
     },
     "execution_count": 43,
     "metadata": {},
     "output_type": "execute_result"
    }
   ],
   "source": [
    "poutine.trace(a.gp_model).get_trace(p, k, x2, fancy_y2).log_prob_sum()"
   ]
  },
  {
   "cell_type": "markdown",
   "id": "1cc5bbbf",
   "metadata": {},
   "source": [
    "## ELBO GFlow Training"
   ]
  },
  {
   "cell_type": "code",
   "execution_count": 18,
   "id": "6815c17f",
   "metadata": {
    "ExecuteTime": {
     "end_time": "2022-06-22T22:57:18.448076Z",
     "start_time": "2022-06-22T22:57:18.127068Z"
    }
   },
   "outputs": [],
   "source": [
    "pyro.clear_param_store()\n",
    "KERNS = {}\n",
    "opt = Adam({\"lr\": 1e-3, \"betas\": (0.90, 0.999)})\n",
    "secs = int(time.time())"
   ]
  },
  {
   "cell_type": "code",
   "execution_count": null,
   "id": "90c2a1be",
   "metadata": {
    "ExecuteTime": {
     "end_time": "2022-06-22T22:57:56.846642Z",
     "start_time": "2022-06-22T22:57:18.449578Z"
    }
   },
   "outputs": [],
   "source": [
    "accum_loss = torch.tensor(0.0)\n",
    "accum_kl= torch.tensor(0.0)\n",
    "for epoch in range(1000 * LOGRATE):\n",
    "    with poutine.trace() as capture:\n",
    "        prog, logp, kern, newkern = a.path_guide(KERNS)\n",
    "    for _ in range(10 if newkern else 1):\n",
    "        tr = poutine.trace(a.gp_model).get_trace(prog, kern, x1, fancy_y)\n",
    "        loss = -tr.log_prob_sum() - a.prior_logprob(kern)\n",
    "        params = [n['value'].unconstrained()\n",
    "              for n in tr.nodes.values() if n['type'] == 'param']\n",
    "        loss.backward()\n",
    "        opt(params)\n",
    "        pyro.infer.util.zero_grads(params)\n",
    "    logq = capture.trace.log_prob_sum()\n",
    "    if epoch % LOGRATE == 0:\n",
    "        vis.line(X=torch.tensor([epoch / LOGRATE]),\n",
    "                 Y=accum_kl[None] / LOGRATE,\n",
    "            update='append', win=f\"{secs} kl\", opts={\n",
    "                'title': \"Elbo GFlow KL estimate\"})\n",
    "        vis.line(X=torch.tensor([epoch / LOGRATE]),\n",
    "                 Y=accum_loss[None] / LOGRATE,\n",
    "            update='append', win=f\"{secs} loss\", opts={\n",
    "                'title': \"Elbo GFlow Loss\"})\n",
    "        accum_loss.zero_()\n",
    "        accum_kl.zero_()\n",
    "        validation_logp = a.validate(KERNS, x2, fancy_y2)\n",
    "        vis.line(X=torch.tensor([epoch / LOGRATE]),\n",
    "             Y=validation_logp[None],\n",
    "            update='append', win=f\"{secs} val\", opts={\n",
    "                'title': \"Elbo GFlow Validation Logp\"})\n",
    "    kl_sample = (logq - logp + (loss / len(x1))).detach()\n",
    "    accum_kl += (logq - logp).detach()\n",
    "    accum_loss += loss.detach() / len(x1)\n",
    "    outer_loss = logq * kl_sample\n",
    "    outer_loss.backward()\n",
    "    outer_params = [n['value'].unconstrained()\n",
    "        for n in capture.trace.nodes.values() if n['type'] == 'param']\n",
    "    opt(outer_params)\n",
    "    pyro.infer.util.zero_grads(outer_params) "
   ]
  },
  {
   "cell_type": "markdown",
   "id": "888d2562",
   "metadata": {
    "heading_collapsed": true
   },
   "source": [
    "## Original GFlow Training"
   ]
  },
  {
   "cell_type": "code",
   "execution_count": 92,
   "id": "961b23f9",
   "metadata": {
    "ExecuteTime": {
     "end_time": "2022-06-22T19:44:40.201425Z",
     "start_time": "2022-06-22T19:44:40.187053Z"
    },
    "hidden": true
   },
   "outputs": [],
   "source": [
    "pyro.clear_param_store()\n",
    "KERNS = {}\n",
    "opt = Adam({\"lr\": 1e-3, \"betas\": (0.90, 0.999)})"
   ]
  },
  {
   "cell_type": "code",
   "execution_count": 93,
   "id": "bef290d4",
   "metadata": {
    "ExecuteTime": {
     "end_time": "2022-06-22T19:47:56.506622Z",
     "start_time": "2022-06-22T19:44:40.203476Z"
    },
    "hidden": true
   },
   "outputs": [
    {
     "ename": "KeyboardInterrupt",
     "evalue": "",
     "output_type": "error",
     "traceback": [
      "\u001b[0;31m---------------------------------------------------------------------------\u001b[0m",
      "\u001b[0;31mKeyboardInterrupt\u001b[0m                         Traceback (most recent call last)",
      "Input \u001b[0;32mIn [93]\u001b[0m, in \u001b[0;36m<cell line: 3>\u001b[0;34m()\u001b[0m\n\u001b[1;32m      8\u001b[0m loss \u001b[38;5;241m=\u001b[39m \u001b[38;5;241m-\u001b[39mtr\u001b[38;5;241m.\u001b[39mlog_prob_sum()\n\u001b[1;32m      9\u001b[0m params \u001b[38;5;241m=\u001b[39m [n[\u001b[38;5;124m'\u001b[39m\u001b[38;5;124mvalue\u001b[39m\u001b[38;5;124m'\u001b[39m]\u001b[38;5;241m.\u001b[39munconstrained()\n\u001b[1;32m     10\u001b[0m       \u001b[38;5;28;01mfor\u001b[39;00m n \u001b[38;5;129;01min\u001b[39;00m tr\u001b[38;5;241m.\u001b[39mnodes\u001b[38;5;241m.\u001b[39mvalues() \u001b[38;5;28;01mif\u001b[39;00m n[\u001b[38;5;124m'\u001b[39m\u001b[38;5;124mtype\u001b[39m\u001b[38;5;124m'\u001b[39m] \u001b[38;5;241m==\u001b[39m \u001b[38;5;124m'\u001b[39m\u001b[38;5;124mparam\u001b[39m\u001b[38;5;124m'\u001b[39m]\n\u001b[0;32m---> 11\u001b[0m \u001b[43mloss\u001b[49m\u001b[38;5;241;43m.\u001b[39;49m\u001b[43mbackward\u001b[49m\u001b[43m(\u001b[49m\u001b[43m)\u001b[49m\n\u001b[1;32m     12\u001b[0m opt(params)\n\u001b[1;32m     13\u001b[0m pyro\u001b[38;5;241m.\u001b[39minfer\u001b[38;5;241m.\u001b[39mutil\u001b[38;5;241m.\u001b[39mzero_grads(params)\n",
      "File \u001b[0;32m/usr/lib/python3.10/site-packages/torch/_tensor.py:363\u001b[0m, in \u001b[0;36mTensor.backward\u001b[0;34m(self, gradient, retain_graph, create_graph, inputs)\u001b[0m\n\u001b[1;32m    354\u001b[0m \u001b[38;5;28;01mif\u001b[39;00m has_torch_function_unary(\u001b[38;5;28mself\u001b[39m):\n\u001b[1;32m    355\u001b[0m     \u001b[38;5;28;01mreturn\u001b[39;00m handle_torch_function(\n\u001b[1;32m    356\u001b[0m         Tensor\u001b[38;5;241m.\u001b[39mbackward,\n\u001b[1;32m    357\u001b[0m         (\u001b[38;5;28mself\u001b[39m,),\n\u001b[0;32m   (...)\u001b[0m\n\u001b[1;32m    361\u001b[0m         create_graph\u001b[38;5;241m=\u001b[39mcreate_graph,\n\u001b[1;32m    362\u001b[0m         inputs\u001b[38;5;241m=\u001b[39minputs)\n\u001b[0;32m--> 363\u001b[0m \u001b[43mtorch\u001b[49m\u001b[38;5;241;43m.\u001b[39;49m\u001b[43mautograd\u001b[49m\u001b[38;5;241;43m.\u001b[39;49m\u001b[43mbackward\u001b[49m\u001b[43m(\u001b[49m\u001b[38;5;28;43mself\u001b[39;49m\u001b[43m,\u001b[49m\u001b[43m \u001b[49m\u001b[43mgradient\u001b[49m\u001b[43m,\u001b[49m\u001b[43m \u001b[49m\u001b[43mretain_graph\u001b[49m\u001b[43m,\u001b[49m\u001b[43m \u001b[49m\u001b[43mcreate_graph\u001b[49m\u001b[43m,\u001b[49m\u001b[43m \u001b[49m\u001b[43minputs\u001b[49m\u001b[38;5;241;43m=\u001b[39;49m\u001b[43minputs\u001b[49m\u001b[43m)\u001b[49m\n",
      "File \u001b[0;32m/usr/lib/python3.10/site-packages/torch/autograd/__init__.py:173\u001b[0m, in \u001b[0;36mbackward\u001b[0;34m(tensors, grad_tensors, retain_graph, create_graph, grad_variables, inputs)\u001b[0m\n\u001b[1;32m    168\u001b[0m     retain_graph \u001b[38;5;241m=\u001b[39m create_graph\n\u001b[1;32m    170\u001b[0m \u001b[38;5;66;03m# The reason we repeat same the comment below is that\u001b[39;00m\n\u001b[1;32m    171\u001b[0m \u001b[38;5;66;03m# some Python versions print out the first line of a multi-line function\u001b[39;00m\n\u001b[1;32m    172\u001b[0m \u001b[38;5;66;03m# calls in the traceback and some print out the last line\u001b[39;00m\n\u001b[0;32m--> 173\u001b[0m \u001b[43mVariable\u001b[49m\u001b[38;5;241;43m.\u001b[39;49m\u001b[43m_execution_engine\u001b[49m\u001b[38;5;241;43m.\u001b[39;49m\u001b[43mrun_backward\u001b[49m\u001b[43m(\u001b[49m\u001b[43m  \u001b[49m\u001b[38;5;66;43;03m# Calls into the C++ engine to run the backward pass\u001b[39;49;00m\n\u001b[1;32m    174\u001b[0m \u001b[43m    \u001b[49m\u001b[43mtensors\u001b[49m\u001b[43m,\u001b[49m\u001b[43m \u001b[49m\u001b[43mgrad_tensors_\u001b[49m\u001b[43m,\u001b[49m\u001b[43m \u001b[49m\u001b[43mretain_graph\u001b[49m\u001b[43m,\u001b[49m\u001b[43m \u001b[49m\u001b[43mcreate_graph\u001b[49m\u001b[43m,\u001b[49m\u001b[43m \u001b[49m\u001b[43minputs\u001b[49m\u001b[43m,\u001b[49m\n\u001b[1;32m    175\u001b[0m \u001b[43m    \u001b[49m\u001b[43mallow_unreachable\u001b[49m\u001b[38;5;241;43m=\u001b[39;49m\u001b[38;5;28;43;01mTrue\u001b[39;49;00m\u001b[43m,\u001b[49m\u001b[43m \u001b[49m\u001b[43maccumulate_grad\u001b[49m\u001b[38;5;241;43m=\u001b[39;49m\u001b[38;5;28;43;01mTrue\u001b[39;49;00m\u001b[43m)\u001b[49m\n",
      "File \u001b[0;32m/usr/lib/python3.10/site-packages/torch/autograd/function.py:243\u001b[0m, in \u001b[0;36mBackwardCFunction.apply\u001b[0;34m(self, *args)\u001b[0m\n\u001b[1;32m    242\u001b[0m \u001b[38;5;28;01mclass\u001b[39;00m \u001b[38;5;21;01mBackwardCFunction\u001b[39;00m(_C\u001b[38;5;241m.\u001b[39m_FunctionBase, FunctionCtx, _HookMixin):\n\u001b[0;32m--> 243\u001b[0m     \u001b[38;5;28;01mdef\u001b[39;00m \u001b[38;5;21mapply\u001b[39m(\u001b[38;5;28mself\u001b[39m, \u001b[38;5;241m*\u001b[39margs):\n\u001b[1;32m    244\u001b[0m         \u001b[38;5;66;03m# _forward_cls is defined by derived class\u001b[39;00m\n\u001b[1;32m    245\u001b[0m         \u001b[38;5;66;03m# The user should define either backward or vjp but never both.\u001b[39;00m\n\u001b[1;32m    246\u001b[0m         backward_fn \u001b[38;5;241m=\u001b[39m \u001b[38;5;28mself\u001b[39m\u001b[38;5;241m.\u001b[39m_forward_cls\u001b[38;5;241m.\u001b[39mbackward  \u001b[38;5;66;03m# type: ignore[attr-defined]\u001b[39;00m\n\u001b[1;32m    247\u001b[0m         vjp_fn \u001b[38;5;241m=\u001b[39m \u001b[38;5;28mself\u001b[39m\u001b[38;5;241m.\u001b[39m_forward_cls\u001b[38;5;241m.\u001b[39mvjp  \u001b[38;5;66;03m# type: ignore[attr-defined]\u001b[39;00m\n",
      "\u001b[0;31mKeyboardInterrupt\u001b[0m: "
     ]
    }
   ],
   "source": [
    "accum_loss = torch.tensor(0.0)\n",
    "logz = torch.tensor(0.0, requires_grad=True)\n",
    "for epoch in range(300000):\n",
    "    with poutine.trace() as capture:\n",
    "        prog, logp, kern, newkern = a.path_guide(KERNS)\n",
    "    for _ in range(10 if newkern else 1):\n",
    "        tr = poutine.trace(a.gp_model).get_trace(prog, kern, x1, fancy_y)\n",
    "        loss = -tr.log_prob_sum()\n",
    "        params = [n['value'].unconstrained()\n",
    "              for n in tr.nodes.values() if n['type'] == 'param']\n",
    "        loss.backward()\n",
    "        opt(params)\n",
    "        pyro.infer.util.zero_grads(params)\n",
    "    logq = capture.trace.log_prob_sum()\n",
    "    if epoch % LOGRATE == 0:\n",
    "        vis.line(X=torch.tensor([epoch / LOGRATE]),\n",
    "                 Y=accum_loss[None] / LOGRATE,\n",
    "            update='append', win='loss2', opts={\n",
    "                'title': \"Loss2\"})\n",
    "        accum_loss.zero_()\n",
    "        validation = torch.tensor(0.0)\n",
    "        with torch.no_grad():\n",
    "            for _ in range(10):\n",
    "                tr2 = poutine.trace(a.gp_model).get_trace(prog, kern, x2, fancy_y2)\n",
    "                validation += tr2.log_prob_sum()\n",
    "            validation_logp = validation / 10\n",
    "            vis.line(X=torch.tensor([epoch / LOGRATE]),\n",
    "                 Y=validation_logp[None],\n",
    "                update='append', win='og_validation', opts={\n",
    "                    'title': \"OG GFlow Validation Logp\"})\n",
    "    outer_loss = torch.square(logq - logp + logz)\n",
    "    accum_loss += outer_loss.detach()\n",
    "    outer_loss.backward()\n",
    "    outer_params = [n['value'].unconstrained()\n",
    "        for n in capture.trace.nodes.values() if n['type'] == 'param']\n",
    "    outer_params.append(logz)\n",
    "    opt(outer_params)\n",
    "    pyro.infer.util.zero_grads(outer_params) "
   ]
  },
  {
   "cell_type": "markdown",
   "id": "d57e253c",
   "metadata": {},
   "source": [
    "## REINFORCE Training"
   ]
  },
  {
   "cell_type": "code",
   "execution_count": 20,
   "id": "45352a1b",
   "metadata": {
    "ExecuteTime": {
     "end_time": "2022-06-22T22:59:36.190528Z",
     "start_time": "2022-06-22T22:59:36.174455Z"
    }
   },
   "outputs": [],
   "source": [
    "pyro.clear_param_store()\n",
    "KERNS = {}\n",
    "opt = Adam({\"lr\": 1e-3, \"betas\": (0.90, 0.999)})"
   ]
  },
  {
   "cell_type": "code",
   "execution_count": null,
   "id": "aaa64018",
   "metadata": {
    "ExecuteTime": {
     "end_time": "2022-06-22T23:00:01.187961Z",
     "start_time": "2022-06-22T22:59:36.191810Z"
    }
   },
   "outputs": [],
   "source": [
    "accum_loss = torch.tensor(0.0)\n",
    "for epoch in range(300000):\n",
    "    with poutine.trace() as capture:\n",
    "        prog, logp, kern, newkern = a.path_guide(KERNS)\n",
    "    for _ in range(10 if newkern else 1):\n",
    "        tr = poutine.trace(a.gp_model).get_trace(prog, kern, x1, fancy_y)\n",
    "        loss = -tr.log_prob_sum()\n",
    "        params = [n['value'].unconstrained()\n",
    "              for n in tr.nodes.values() if n['type'] == 'param']\n",
    "        loss.backward()\n",
    "        opt(params)\n",
    "        pyro.infer.util.zero_grads(params)\n",
    "    logq = capture.trace.log_prob_sum()\n",
    "    if epoch % LOGRATE == 0:\n",
    "        vis.line(X=torch.tensor([epoch / LOGRATE]),\n",
    "                 Y=accum_loss[None] / LOGRATE,\n",
    "            update='append', win='rf_loss', opts={\n",
    "                'title': \"REINFORCE Loss\"})\n",
    "        accum_loss.zero_()\n",
    "        validation_logp = a.validate(KERNS, x2, fancy_y2)\n",
    "        vis.line(X=torch.tensor([epoch / LOGRATE]),\n",
    "             Y=validation_logp[None],\n",
    "            update='append', win='rf_validation', opts={\n",
    "                'title': \"REINFORCE Validation Logp\"})\n",
    "    outer_loss = loss.detach() * logq\n",
    "    outer_loss.backward()\n",
    "    accum_loss += loss.detach()\n",
    "    outer_params = [n['value'].unconstrained()\n",
    "        for n in capture.trace.nodes.values() if n['type'] == 'param']\n",
    "    opt(outer_params)\n",
    "    pyro.infer.util.zero_grads(outer_params) "
   ]
  },
  {
   "cell_type": "markdown",
   "id": "fc86588f",
   "metadata": {},
   "source": [
    "## Multimodality"
   ]
  },
  {
   "cell_type": "code",
   "execution_count": 25,
   "id": "7377b922",
   "metadata": {
    "ExecuteTime": {
     "end_time": "2022-06-22T23:01:51.478823Z",
     "start_time": "2022-06-22T23:01:51.444581Z"
    }
   },
   "outputs": [
    {
     "data": {
      "text/plain": [
       "([Prog(builder=pset(), adds=pset([pset([<Action.Periodic: 3>])]), done=True),\n",
       "  Prog(builder=pset(), adds=pset([pset([<Action.RBF: 4>])]), done=True),\n",
       "  Prog(builder=pset(), adds=pset([pset([<Action.RBF: 4>, <Action.Periodic: 3>])]), done=True),\n",
       "  Prog(builder=pset(), adds=pset([pset([<Action.RBF: 4>, <Action.Periodic: 3>])]), done=True),\n",
       "  Prog(builder=pset(), adds=pset([pset([<Action.Periodic: 3>]), pset([<Action.RBF: 4>])]), done=True),\n",
       "  Prog(builder=pset(), adds=pset([pset([<Action.Periodic: 3>]), pset([<Action.RBF: 4>])]), done=True)],\n",
       " tensor([-2.8180, -2.6758, -1.2943, -2.8266, -3.2953, -3.9623]))"
      ]
     },
     "execution_count": 25,
     "metadata": {},
     "output_type": "execute_result"
    }
   ],
   "source": [
    "a.all_in_quantile(a.get_path, 0.7, None, KERNS)"
   ]
  },
  {
   "cell_type": "code",
   "execution_count": 26,
   "id": "5158c599",
   "metadata": {
    "ExecuteTime": {
     "end_time": "2022-06-22T23:02:08.125582Z",
     "start_time": "2022-06-22T23:02:08.109917Z"
    }
   },
   "outputs": [
    {
     "data": {
      "text/plain": [
       "Prog(builder=pset(), adds=pset([pset([<Action.RBF: 4>, <Action.Periodic: 3>])]), done=True)"
      ]
     },
     "execution_count": 26,
     "metadata": {},
     "output_type": "execute_result"
    }
   ],
   "source": [
    "with a.MAPMessenger():\n",
    "    result = a.get_path(KERNS)\n",
    "result "
   ]
  }
 ],
 "metadata": {
  "@webio": {
   "lastCommId": null,
   "lastKernelId": null
  },
  "kernelspec": {
   "display_name": "Python 3 (ipykernel)",
   "language": "python",
   "name": "python3"
  },
  "language_info": {
   "codemirror_mode": {
    "name": "ipython",
    "version": 3
   },
   "file_extension": ".py",
   "mimetype": "text/x-python",
   "name": "python",
   "nbconvert_exporter": "python",
   "pygments_lexer": "ipython3",
   "version": "3.10.5"
  }
 },
 "nbformat": 4,
 "nbformat_minor": 5
}

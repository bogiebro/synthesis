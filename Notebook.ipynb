{
 "cells": [
  {
   "cell_type": "markdown",
   "id": "66e6430f",
   "metadata": {},
   "source": [
    "## Imports"
   ]
  },
  {
   "cell_type": "code",
   "execution_count": 1,
   "id": "15e7d3b5",
   "metadata": {
    "ExecuteTime": {
     "end_time": "2022-06-21T21:09:52.751701Z",
     "start_time": "2022-06-21T21:09:51.908132Z"
    }
   },
   "outputs": [],
   "source": [
    "%autoreload\n",
    "from collections import defaultdict\n",
    "import itertools\n",
    "import torch\n",
    "import pyro\n",
    "import pyro.distributions as dist\n",
    "from pyro.infer import Predictive, SVI, Trace_ELBO, TraceGraph_ELBO, config_enumerate\n",
    "from pyro import poutine\n",
    "from pyro.optim import Adam\n",
    "import gpytorch as gp\n",
    "from gpytorch.kernels import RBFKernel, PeriodicKernel, ScaleKernel, ProductKernel, LinearKernel, AdditiveKernel\n",
    "import visdom\n",
    "import pdb\n",
    "from pmextract import extract\n",
    "import matplotlib.pyplot as plt\n",
    "import autostat as a"
   ]
  },
  {
   "cell_type": "code",
   "execution_count": 2,
   "id": "c5c11fea",
   "metadata": {
    "ExecuteTime": {
     "end_time": "2022-06-21T21:09:52.763159Z",
     "start_time": "2022-06-21T21:09:52.753318Z"
    }
   },
   "outputs": [],
   "source": [
    "leaf_name = \"param \" + str(a.hash_prog(a.Prog()))"
   ]
  },
  {
   "cell_type": "code",
   "execution_count": 3,
   "id": "c3255723",
   "metadata": {
    "ExecuteTime": {
     "end_time": "2022-06-21T21:09:52.774948Z",
     "start_time": "2022-06-21T21:09:52.764836Z"
    }
   },
   "outputs": [],
   "source": [
    "LOGRATE = 20"
   ]
  },
  {
   "cell_type": "code",
   "execution_count": 4,
   "id": "aaaf008f",
   "metadata": {
    "ExecuteTime": {
     "end_time": "2022-06-21T21:09:52.892295Z",
     "start_time": "2022-06-21T21:09:52.776655Z"
    }
   },
   "outputs": [
    {
     "name": "stderr",
     "output_type": "stream",
     "text": [
      "Setting up a new session...\n"
     ]
    }
   ],
   "source": [
    "vis = visdom.Visdom(env='nb')"
   ]
  },
  {
   "cell_type": "markdown",
   "id": "ff6b028c",
   "metadata": {
    "heading_collapsed": true
   },
   "source": [
    "## Fake Data"
   ]
  },
  {
   "cell_type": "code",
   "execution_count": 24,
   "id": "78856135",
   "metadata": {
    "ExecuteTime": {
     "end_time": "2022-06-21T21:14:11.888694Z",
     "start_time": "2022-06-21T21:14:11.868656Z"
    },
    "hidden": true
   },
   "outputs": [],
   "source": [
    "p = a.Prog()"
   ]
  },
  {
   "cell_type": "code",
   "execution_count": 25,
   "id": "3b38c0f8",
   "metadata": {
    "ExecuteTime": {
     "end_time": "2022-06-21T21:14:11.900982Z",
     "start_time": "2022-06-21T21:14:11.890342Z"
    },
    "hidden": true
   },
   "outputs": [],
   "source": [
    "p.adds.add(frozenset([PeriodicKernel, RBFKernel]))\n",
    "p.adds.add(frozenset([LinearKernel]))"
   ]
  },
  {
   "cell_type": "code",
   "execution_count": 26,
   "id": "04b3303f",
   "metadata": {
    "ExecuteTime": {
     "end_time": "2022-06-21T21:14:11.914628Z",
     "start_time": "2022-06-21T21:14:11.902325Z"
    },
    "hidden": true
   },
   "outputs": [],
   "source": [
    "k = a.to_kernel(p)"
   ]
  },
  {
   "cell_type": "code",
   "execution_count": 36,
   "id": "144deb33",
   "metadata": {
    "ExecuteTime": {
     "end_time": "2022-06-21T21:15:40.177602Z",
     "start_time": "2022-06-21T21:15:40.162878Z"
    },
    "hidden": true
   },
   "outputs": [],
   "source": [
    "x = (torch.arange(100) / 40)"
   ]
  },
  {
   "cell_type": "code",
   "execution_count": 37,
   "id": "684e06da",
   "metadata": {
    "ExecuteTime": {
     "end_time": "2022-06-21T21:16:02.068716Z",
     "start_time": "2022-06-21T21:16:02.053858Z"
    },
    "hidden": true
   },
   "outputs": [],
   "source": [
    "x1 = x[:50, None]"
   ]
  },
  {
   "cell_type": "code",
   "execution_count": 38,
   "id": "845ff847",
   "metadata": {
    "ExecuteTime": {
     "end_time": "2022-06-21T21:16:08.427140Z",
     "start_time": "2022-06-21T21:16:08.416625Z"
    },
    "hidden": true
   },
   "outputs": [],
   "source": [
    "x2 = x[50:, None]"
   ]
  },
  {
   "cell_type": "code",
   "execution_count": 29,
   "id": "def971ce",
   "metadata": {
    "ExecuteTime": {
     "end_time": "2022-06-21T21:14:11.948769Z",
     "start_time": "2022-06-21T21:14:11.938932Z"
    },
    "hidden": true
   },
   "outputs": [],
   "source": [
    "MEAN = gp.means.ZeroMean()"
   ]
  },
  {
   "cell_type": "code",
   "execution_count": 39,
   "id": "00905a1b",
   "metadata": {
    "ExecuteTime": {
     "end_time": "2022-06-21T21:16:46.904784Z",
     "start_time": "2022-06-21T21:16:46.801245Z"
    },
    "hidden": true
   },
   "outputs": [],
   "source": [
    "fancy_y = a.gp_model(a.Prog(), MEAN, k, x1, None).detach()"
   ]
  },
  {
   "cell_type": "code",
   "execution_count": 41,
   "id": "ba24156d",
   "metadata": {
    "ExecuteTime": {
     "end_time": "2022-06-21T21:19:31.432266Z",
     "start_time": "2022-06-21T21:19:31.418919Z"
    },
    "hidden": true
   },
   "outputs": [],
   "source": [
    "with torch.no_grad():\n",
    "    fancy_y2 = k(x2, x1) @ k(x1).add_diag(torch.tensor(0.001)).inv_matmul(fancy_y)"
   ]
  },
  {
   "cell_type": "code",
   "execution_count": 42,
   "id": "a1420fa3",
   "metadata": {
    "ExecuteTime": {
     "end_time": "2022-06-21T21:19:49.799889Z",
     "start_time": "2022-06-21T21:19:49.729229Z"
    },
    "hidden": true
   },
   "outputs": [
    {
     "data": {
      "text/plain": [
       "[<matplotlib.lines.Line2D at 0x7faa36a97dc0>]"
      ]
     },
     "execution_count": 42,
     "metadata": {},
     "output_type": "execute_result"
    },
    {
     "data": {
      "image/png": "[encoded data removed]",
      "text/plain": [
       "<Figure size 432x288 with 1 Axes>"
      ]
     },
     "metadata": {
      "needs_background": "light"
     },
     "output_type": "display_data"
    }
   ],
   "source": [
    "plt.plot(x, torch.cat((fancy_y, fancy_y2)))"
   ]
  },
  {
   "cell_type": "markdown",
   "id": "019fc04a",
   "metadata": {},
   "source": [
    "## ELBO GFlow Training"
   ]
  },
  {
   "cell_type": "code",
   "execution_count": 45,
   "id": "b9568b58",
   "metadata": {
    "ExecuteTime": {
     "end_time": "2022-06-21T21:21:52.388329Z",
     "start_time": "2022-06-21T21:21:52.371533Z"
    }
   },
   "outputs": [],
   "source": [
    "pyro.clear_param_store()\n",
    "KERNS = {}\n",
    "opt = Adam({\"lr\": 1e-3, \"betas\": (0.90, 0.999)})"
   ]
  },
  {
   "cell_type": "code",
   "execution_count": 46,
   "id": "6f4ce001",
   "metadata": {
    "ExecuteTime": {
     "end_time": "2022-06-21T21:24:37.050714Z",
     "start_time": "2022-06-21T21:21:52.389832Z"
    }
   },
   "outputs": [
    {
     "name": "stderr",
     "output_type": "stream",
     "text": [
      "/home/sam/.local/lib/python3.10/site-packages/gpytorch/lazy/triangular_lazy_tensor.py:130: UserWarning: torch.triangular_solve is deprecated in favor of torch.linalg.solve_triangularand will be removed in a future PyTorch release.\n",
      "torch.linalg.solve_triangular has its arguments reversed and does not return a copy of one of the inputs.\n",
      "X = torch.triangular_solve(B, A).solution\n",
      "should be replaced with\n",
      "X = torch.linalg.solve_triangular(A, B). (Triggered internally at  /build/python-pytorch/src/pytorch-1.11.0/aten/src/ATen/native/BatchLinearAlgebra.cpp:1666.)\n",
      "  res = torch.triangular_solve(right_tensor, self.evaluate(), upper=self.upper).solution\n",
      "/home/sam/.local/lib/python3.10/site-packages/gpytorch/utils/cholesky.py:38: NumericalWarning: A not p.d., added jitter of 1.0e-06 to the diagonal\n",
      "  warnings.warn(\n",
      "/home/sam/.local/lib/python3.10/site-packages/gpytorch/utils/cholesky.py:38: NumericalWarning: A not p.d., added jitter of 1.0e-05 to the diagonal\n",
      "  warnings.warn(\n"
     ]
    }
   ],
   "source": [
    "accum_loss = torch.tensor(0.0)\n",
    "accum_kl= torch.tensor(0.0)\n",
    "for epoch in range(1000 * LOGRATE):\n",
    "    with poutine.trace() as capture:\n",
    "        prog, logp, kern, newkern = a.path_guide(KERNS)\n",
    "    for _ in range(10 if newkern else 1):\n",
    "        tr = poutine.trace(a.gp_model).get_trace(prog, MEAN, kern, x1, fancy_y)\n",
    "        loss = -tr.log_prob_sum()\n",
    "        params = [n['value'].unconstrained()\n",
    "              for n in tr.nodes.values() if n['type'] == 'param']\n",
    "        loss.backward()\n",
    "        opt(params)\n",
    "        pyro.infer.util.zero_grads(params)\n",
    "    logq = capture.trace.log_prob_sum()\n",
    "    if epoch % LOGRATE == 0:\n",
    "        vis.line(X=torch.tensor([epoch / LOGRATE]),\n",
    "                 Y=accum_kl[None] / LOGRATE,\n",
    "            update='append', win='eg_kl', opts={\n",
    "                'title': \"Elbo GFlow KL estimate\"})\n",
    "        vis.line(X=torch.tensor([epoch / LOGRATE]),\n",
    "                 Y=accum_loss[None] / LOGRATE,\n",
    "            update='append', win='eg_loss', opts={\n",
    "                'title': \"Elbo GFlow Loss\"})\n",
    "        accum_loss.zero_()\n",
    "        accum_kl.zero_()\n",
    "        validation = torch.tensor(0.0)\n",
    "        with torch.no_grad():\n",
    "            for _ in range(10):\n",
    "                tr2 = poutine.trace(a.gp_model).get_trace(prog, MEAN, kern, x2, fancy_y2)\n",
    "                validation += tr2.log_prob_sum()\n",
    "            validation_logp = validation / 10\n",
    "            vis.line(X=torch.tensor([epoch / LOGRATE]),\n",
    "                 Y=validation_logp[None],\n",
    "                update='append', win='eg_validation', opts={\n",
    "                    'title': \"Elbo GFlow Validation Logp\"})\n",
    "    kl_sample = (logq - logp + (loss / len(x1))).detach()\n",
    "    accum_kl += (logq - logp).detach()\n",
    "    accum_loss += loss.detach() / len(x1)\n",
    "    outer_loss = logq * kl_sample\n",
    "    outer_loss.backward()\n",
    "    outer_params = [n['value'].unconstrained()\n",
    "        for n in capture.trace.nodes.values() if n['type'] == 'param']\n",
    "    opt(outer_params)\n",
    "    pyro.infer.util.zero_grads(outer_params) "
   ]
  },
  {
   "cell_type": "markdown",
   "id": "305b411e",
   "metadata": {
    "heading_collapsed": true
   },
   "source": [
    "## Original GFlow Training"
   ]
  },
  {
   "cell_type": "code",
   "execution_count": 93,
   "id": "9153453e",
   "metadata": {
    "ExecuteTime": {
     "end_time": "2022-06-21T19:15:32.463328Z",
     "start_time": "2022-06-21T19:15:32.450363Z"
    },
    "hidden": true
   },
   "outputs": [],
   "source": [
    "pyro.clear_param_store()\n",
    "KERNS = {}\n",
    "opt = Adam({\"lr\": 1e-3, \"betas\": (0.90, 0.999)})"
   ]
  },
  {
   "cell_type": "code",
   "execution_count": null,
   "id": "50978b58",
   "metadata": {
    "ExecuteTime": {
     "end_time": "2022-06-21T15:00:11.438267Z",
     "start_time": "2022-06-21T14:57:00.211736Z"
    },
    "hidden": true
   },
   "outputs": [],
   "source": [
    "accum_loss = torch.tensor(0.0)\n",
    "logz = torch.tensor(0.0, requires_grad=True)\n",
    "for epoch in range(300000):\n",
    "    with poutine.trace() as capture:\n",
    "        prog, logp, kern, newkern = a.path_guide(KERNS)\n",
    "    for _ in range(10 if newkern else 1):\n",
    "        tr = poutine.trace(a.gp_model).get_trace(prog, MEAN, kern, x, fancy_y)\n",
    "        loss = -tr.log_prob_sum()\n",
    "        params = [n['value'].unconstrained()\n",
    "              for n in tr.nodes.values() if n['type'] == 'param']\n",
    "        loss.backward()\n",
    "        opt(params)\n",
    "        pyro.infer.util.zero_grads(params)\n",
    "    path = get_path(capture)\n",
    "    logq = capture.trace.log_prob_sum()\n",
    "    if epoch % LOGRATE == 0:\n",
    "        vis.line(X=torch.tensor([epoch / LOGRATE]),\n",
    "                 Y=accum_loss[None] / LOGRATE,\n",
    "            update='append', win='loss2', opts={\n",
    "                'title': \"Loss2\"})\n",
    "        accum_loss.zero_()\n",
    "    outer_loss = torch.square(logq - logp + logz)\n",
    "    accum_loss += outer_loss.detach()\n",
    "    outer_loss.backward()\n",
    "    outer_params = [n['value'].unconstrained()\n",
    "        for n in capture.trace.nodes.values() if n['type'] == 'param']\n",
    "    outer_params.append(logz)\n",
    "    opt(outer_params)\n",
    "    pyro.infer.util.zero_grads(outer_params) "
   ]
  },
  {
   "cell_type": "markdown",
   "id": "18a91b80",
   "metadata": {
    "heading_collapsed": true
   },
   "source": [
    "## REINFORCE Training"
   ]
  },
  {
   "cell_type": "code",
   "execution_count": 103,
   "id": "55c5da4d",
   "metadata": {
    "ExecuteTime": {
     "end_time": "2022-06-21T20:00:41.084540Z",
     "start_time": "2022-06-21T20:00:41.021603Z"
    },
    "hidden": true
   },
   "outputs": [],
   "source": [
    "pyro.clear_param_store()\n",
    "KERNS = {}\n",
    "opt = Adam({\"lr\": 1e-3, \"betas\": (0.90, 0.999)})"
   ]
  },
  {
   "cell_type": "code",
   "execution_count": 104,
   "id": "2df4e435",
   "metadata": {
    "ExecuteTime": {
     "end_time": "2022-06-21T20:07:16.465974Z",
     "start_time": "2022-06-21T20:00:41.098860Z"
    },
    "hidden": true
   },
   "outputs": [
    {
     "ename": "KeyboardInterrupt",
     "evalue": "",
     "output_type": "error",
     "traceback": [
      "\u001b[0;31m---------------------------------------------------------------------------\u001b[0m",
      "\u001b[0;31mKeyboardInterrupt\u001b[0m                         Traceback (most recent call last)",
      "Input \u001b[0;32mIn [104]\u001b[0m, in \u001b[0;36m<cell line: 2>\u001b[0;34m()\u001b[0m\n\u001b[1;32m      5\u001b[0m \u001b[38;5;28;01mfor\u001b[39;00m _ \u001b[38;5;129;01min\u001b[39;00m \u001b[38;5;28mrange\u001b[39m(\u001b[38;5;241m10\u001b[39m \u001b[38;5;28;01mif\u001b[39;00m newkern \u001b[38;5;28;01melse\u001b[39;00m \u001b[38;5;241m1\u001b[39m):\n\u001b[1;32m      6\u001b[0m     tr \u001b[38;5;241m=\u001b[39m poutine\u001b[38;5;241m.\u001b[39mtrace(a\u001b[38;5;241m.\u001b[39mgp_model)\u001b[38;5;241m.\u001b[39mget_trace(prog, MEAN, kern, x, fancy_y)\n\u001b[0;32m----> 7\u001b[0m     loss \u001b[38;5;241m=\u001b[39m \u001b[38;5;241m-\u001b[39m\u001b[43mtr\u001b[49m\u001b[38;5;241;43m.\u001b[39;49m\u001b[43mlog_prob_sum\u001b[49m\u001b[43m(\u001b[49m\u001b[43m)\u001b[49m\n\u001b[1;32m      8\u001b[0m     params \u001b[38;5;241m=\u001b[39m [n[\u001b[38;5;124m'\u001b[39m\u001b[38;5;124mvalue\u001b[39m\u001b[38;5;124m'\u001b[39m]\u001b[38;5;241m.\u001b[39munconstrained()\n\u001b[1;32m      9\u001b[0m           \u001b[38;5;28;01mfor\u001b[39;00m n \u001b[38;5;129;01min\u001b[39;00m tr\u001b[38;5;241m.\u001b[39mnodes\u001b[38;5;241m.\u001b[39mvalues() \u001b[38;5;28;01mif\u001b[39;00m n[\u001b[38;5;124m'\u001b[39m\u001b[38;5;124mtype\u001b[39m\u001b[38;5;124m'\u001b[39m] \u001b[38;5;241m==\u001b[39m \u001b[38;5;124m'\u001b[39m\u001b[38;5;124mparam\u001b[39m\u001b[38;5;124m'\u001b[39m]\n\u001b[1;32m     10\u001b[0m     loss\u001b[38;5;241m.\u001b[39mbackward()\n",
      "File \u001b[0;32m~/.local/lib/python3.10/site-packages/pyro/poutine/trace_struct.py:196\u001b[0m, in \u001b[0;36mTrace.log_prob_sum\u001b[0;34m(self, site_filter)\u001b[0m\n\u001b[1;32m    194\u001b[0m \u001b[38;5;28;01melse\u001b[39;00m:\n\u001b[1;32m    195\u001b[0m     \u001b[38;5;28;01mtry\u001b[39;00m:\n\u001b[0;32m--> 196\u001b[0m         log_p \u001b[38;5;241m=\u001b[39m \u001b[43msite\u001b[49m\u001b[43m[\u001b[49m\u001b[38;5;124;43m\"\u001b[39;49m\u001b[38;5;124;43mfn\u001b[39;49m\u001b[38;5;124;43m\"\u001b[39;49m\u001b[43m]\u001b[49m\u001b[38;5;241;43m.\u001b[39;49m\u001b[43mlog_prob\u001b[49m\u001b[43m(\u001b[49m\n\u001b[1;32m    197\u001b[0m \u001b[43m            \u001b[49m\u001b[43msite\u001b[49m\u001b[43m[\u001b[49m\u001b[38;5;124;43m\"\u001b[39;49m\u001b[38;5;124;43mvalue\u001b[39;49m\u001b[38;5;124;43m\"\u001b[39;49m\u001b[43m]\u001b[49m\u001b[43m,\u001b[49m\u001b[43m \u001b[49m\u001b[38;5;241;43m*\u001b[39;49m\u001b[43msite\u001b[49m\u001b[43m[\u001b[49m\u001b[38;5;124;43m\"\u001b[39;49m\u001b[38;5;124;43margs\u001b[39;49m\u001b[38;5;124;43m\"\u001b[39;49m\u001b[43m]\u001b[49m\u001b[43m,\u001b[49m\u001b[43m \u001b[49m\u001b[38;5;241;43m*\u001b[39;49m\u001b[38;5;241;43m*\u001b[39;49m\u001b[43msite\u001b[49m\u001b[43m[\u001b[49m\u001b[38;5;124;43m\"\u001b[39;49m\u001b[38;5;124;43mkwargs\u001b[39;49m\u001b[38;5;124;43m\"\u001b[39;49m\u001b[43m]\u001b[49m\n\u001b[1;32m    198\u001b[0m \u001b[43m        \u001b[49m\u001b[43m)\u001b[49m\n\u001b[1;32m    199\u001b[0m     \u001b[38;5;28;01mexcept\u001b[39;00m \u001b[38;5;167;01mValueError\u001b[39;00m \u001b[38;5;28;01mas\u001b[39;00m e:\n\u001b[1;32m    200\u001b[0m         _, exc_value, traceback \u001b[38;5;241m=\u001b[39m sys\u001b[38;5;241m.\u001b[39mexc_info()\n",
      "File \u001b[0;32m~/.local/lib/python3.10/site-packages/gpytorch/distributions/multivariate_normal.py:171\u001b[0m, in \u001b[0;36mMultivariateNormal.log_prob\u001b[0;34m(self, value)\u001b[0m\n\u001b[1;32m    168\u001b[0m covar \u001b[38;5;241m=\u001b[39m covar\u001b[38;5;241m.\u001b[39mevaluate_kernel()\n\u001b[1;32m    169\u001b[0m inv_quad, logdet \u001b[38;5;241m=\u001b[39m covar\u001b[38;5;241m.\u001b[39minv_quad_logdet(inv_quad_rhs\u001b[38;5;241m=\u001b[39mdiff\u001b[38;5;241m.\u001b[39munsqueeze(\u001b[38;5;241m-\u001b[39m\u001b[38;5;241m1\u001b[39m), logdet\u001b[38;5;241m=\u001b[39m\u001b[38;5;28;01mTrue\u001b[39;00m)\n\u001b[0;32m--> 171\u001b[0m res \u001b[38;5;241m=\u001b[39m \u001b[38;5;241m-\u001b[39m\u001b[38;5;241m0.5\u001b[39m \u001b[38;5;241m*\u001b[39m \u001b[38;5;28;43msum\u001b[39;49m\u001b[43m(\u001b[49m\u001b[43m[\u001b[49m\u001b[43minv_quad\u001b[49m\u001b[43m,\u001b[49m\u001b[43m \u001b[49m\u001b[43mlogdet\u001b[49m\u001b[43m,\u001b[49m\u001b[43m \u001b[49m\u001b[43mdiff\u001b[49m\u001b[38;5;241;43m.\u001b[39;49m\u001b[43msize\u001b[49m\u001b[43m(\u001b[49m\u001b[38;5;241;43m-\u001b[39;49m\u001b[38;5;241;43m1\u001b[39;49m\u001b[43m)\u001b[49m\u001b[43m \u001b[49m\u001b[38;5;241;43m*\u001b[39;49m\u001b[43m \u001b[49m\u001b[43mmath\u001b[49m\u001b[38;5;241;43m.\u001b[39;49m\u001b[43mlog\u001b[49m\u001b[43m(\u001b[49m\u001b[38;5;241;43m2\u001b[39;49m\u001b[43m \u001b[49m\u001b[38;5;241;43m*\u001b[39;49m\u001b[43m \u001b[49m\u001b[43mmath\u001b[49m\u001b[38;5;241;43m.\u001b[39;49m\u001b[43mpi\u001b[49m\u001b[43m)\u001b[49m\u001b[43m]\u001b[49m\u001b[43m)\u001b[49m\n\u001b[1;32m    172\u001b[0m \u001b[38;5;28;01mreturn\u001b[39;00m res\n",
      "\u001b[0;31mKeyboardInterrupt\u001b[0m: "
     ]
    }
   ],
   "source": [
    "accum_loss = torch.tensor(0.0)\n",
    "for epoch in range(300000):\n",
    "    with poutine.trace() as capture:\n",
    "        prog, logp, kern, newkern = a.path_guide(KERNS)\n",
    "    for _ in range(10 if newkern else 1):\n",
    "        tr = poutine.trace(a.gp_model).get_trace(prog, MEAN, kern, x, fancy_y)\n",
    "        loss = -tr.log_prob_sum()\n",
    "        params = [n['value'].unconstrained()\n",
    "              for n in tr.nodes.values() if n['type'] == 'param']\n",
    "        loss.backward()\n",
    "        opt(params)\n",
    "#         print(\"Inner\", loss.item())\n",
    "        pyro.infer.util.zero_grads(params)\n",
    "    path = get_path(capture)\n",
    "    logq = capture.trace.log_prob_sum()\n",
    "    if epoch % LOGRATE == 0:\n",
    "        vis.line(X=torch.tensor([epoch / LOGRATE]),\n",
    "                 Y=accum_loss[None] / LOGRATE,\n",
    "            update='append', win='rf_loss', opts={\n",
    "                'title': \"REINFORCE Loss\"})\n",
    "        accum_loss.zero_()\n",
    "        validation = torch.tensor(0.0)\n",
    "        with torch.no_grad():\n",
    "            for _ in range(10):\n",
    "                tr2 = poutine.trace(a.gp_model).get_trace(prog, MEAN, kern, x2, y2)\n",
    "                validation += tr2.log_prob_sum()\n",
    "            validation_logp = validation / 10\n",
    "            vis.line(X=torch.tensor([epoch / LOGRATE]),\n",
    "                 Y=validation_logp[None],\n",
    "                update='append', win='rf_validation', opts={\n",
    "                    'title': \"REINFORCE GFlow Validation Logp\"})\n",
    "    outer_loss = loss.detach() * logq\n",
    "    outer_loss.backward()\n",
    "    accum_loss += loss.detach()\n",
    "    outer_params = [n['value'].unconstrained()\n",
    "        for n in capture.trace.nodes.values() if n['type'] == 'param']\n",
    "    opt(outer_params)\n",
    "    pyro.infer.util.zero_grads(outer_params) "
   ]
  },
  {
   "cell_type": "markdown",
   "id": "b5b53873",
   "metadata": {
    "hidden": true
   },
   "source": [
    "TODO: the topk interpretation."
   ]
  },
  {
   "cell_type": "code",
   "execution_count": null,
   "id": "0e22566b",
   "metadata": {
    "hidden": true
   },
   "outputs": [],
   "source": []
  }
 ],
 "metadata": {
  "@webio": {
   "lastCommId": null,
   "lastKernelId": null
  },
  "kernelspec": {
   "display_name": "Python 3 (ipykernel)",
   "language": "python",
   "name": "python3"
  },
  "language_info": {
   "codemirror_mode": {
    "name": "ipython",
    "version": 3
   },
   "file_extension": ".py",
   "mimetype": "text/x-python",
   "name": "python",
   "nbconvert_exporter": "python",
   "pygments_lexer": "ipython3",
   "version": "3.10.5"
  }
 },
 "nbformat": 4,
 "nbformat_minor": 5
}
